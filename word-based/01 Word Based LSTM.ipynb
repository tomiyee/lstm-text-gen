{
 "cells": [
  {
   "cell_type": "markdown",
   "metadata": {},
   "source": [
    "https://machinelearningmastery.com/how-to-develop-a-word-level-neural-language-model-in-keras/"
   ]
  },
  {
   "cell_type": "markdown",
   "metadata": {},
   "source": [
    "# Word-Level Text Generator in Keras\n",
    "\n",
    "In this project, I will develop a word level text generator in Keras using LSTM. I will train it on a Harry Potter dataset."
   ]
  },
  {
   "cell_type": "code",
   "execution_count": 1,
   "metadata": {},
   "outputs": [
    {
     "name": "stderr",
     "output_type": "stream",
     "text": [
      "Using TensorFlow backend.\n"
     ]
    }
   ],
   "source": [
    "import string\n",
    "from numpy import array\n",
    "\n",
    "import keras\n",
    "from keras.preprocessing.text import Tokenizer\n",
    "from keras.utils import to_categorical\n",
    "from keras.callbacks import LambdaCallback\n",
    "\n",
    "from pickle import dump\n",
    "\n",
    "in_filename = '../datasets/harry-potter-1.txt'\n",
    "out_filename = 'harry-potter.txt'\n",
    "input_size = 50\n",
    "output_size = 1"
   ]
  },
  {
   "cell_type": "markdown",
   "metadata": {},
   "source": [
    "## Load the Document\n",
    "\n",
    "The first step in creating the model is to load the corpus into memory."
   ]
  },
  {
   "cell_type": "code",
   "execution_count": 2,
   "metadata": {},
   "outputs": [],
   "source": [
    "# load doc into memory\n",
    "def load_doc(filename):\n",
    "    # open the file as read only\n",
    "    file = open(filename, 'r')\n",
    "    # read all text\n",
    "    text = file.read()\n",
    "    # close the file\n",
    "    file.close()\n",
    "    return text"
   ]
  },
  {
   "cell_type": "markdown",
   "metadata": {},
   "source": [
    "Once we've got the function to load the document, we find the path to the corpus that we are using, which in this case is:\n",
    "\n",
    "`../datasets/harry-potter-1.txt`"
   ]
  },
  {
   "cell_type": "code",
   "execution_count": 3,
   "metadata": {},
   "outputs": [
    {
     "name": "stdout",
     "output_type": "stream",
     "text": [
      "Mr. and Mrs. Dursley, of number four, Privet Drive, were proud to say that they were perfectly normal, thank you very much. They were the last people you'd expect to be involved in anything strange or\n"
     ]
    }
   ],
   "source": [
    "# load document\n",
    "doc = load_doc(in_filename)\n",
    "print(doc[:200])"
   ]
  },
  {
   "cell_type": "markdown",
   "metadata": {},
   "source": [
    "## Clean the Document\n",
    "\n",
    "Now that we've loaded the document into memory, we want to clean the document. For example, before splitting the document into words, we may want to replace all \"-\" with spaces to so that the words split more nicely. We also take out the punctuation from each word."
   ]
  },
  {
   "cell_type": "code",
   "execution_count": 4,
   "metadata": {},
   "outputs": [],
   "source": [
    "# turn a doc into clean tokens\n",
    "def clean_doc(doc):\n",
    "    # make lower case\n",
    "    doc = doc.lower()\n",
    "    # replace '--' with a space ' '\n",
    "    doc = doc.replace('--', ' ')\n",
    "    doc = doc.replace('-', ' ')\n",
    "    doc = doc.replace('. ', ' . ')\n",
    "    # split into tokens by white space\n",
    "    tokens = doc.split()\n",
    "    # remove punctuation from each token\n",
    "    punctuation = string.punctuation.replace(\".\", \"\")\n",
    "    table = str.maketrans('', '', punctuation)\n",
    "    tokens = [w.translate(table) for w in tokens]\n",
    "    # remove remaining tokens that are not alphabetic\n",
    "    tokens = [word for word in tokens if word.isalpha() or word==\".\"]\n",
    "    return tokens"
   ]
  },
  {
   "cell_type": "markdown",
   "metadata": {},
   "source": [
    "We can then run the cleaning function on the document that we've stored in memory."
   ]
  },
  {
   "cell_type": "code",
   "execution_count": 5,
   "metadata": {},
   "outputs": [
    {
     "name": "stdout",
     "output_type": "stream",
     "text": [
      "['mr', '.', 'and', 'mrs', '.', 'dursley', 'of', 'number', 'four', 'privet', 'drive', 'were', 'proud', 'to', 'say', 'that', 'they', 'were', 'perfectly', 'normal']\n",
      "Total Tokens: 81694\n",
      "Unique Tokens: 5867\n"
     ]
    }
   ],
   "source": [
    "# clean document\n",
    "tokens = clean_doc(doc)\n",
    "print(tokens[:20])\n",
    "print('Total Tokens: %d' % len(tokens))\n",
    "print('Unique Tokens: %d' % len(set(tokens)))"
   ]
  },
  {
   "cell_type": "markdown",
   "metadata": {},
   "source": [
    "## Dataset Preparation\n",
    "\n",
    "Now that we've tokenized our data (that is, separate the document into the list of words), we can now organize the dataset into input and output words. In this case, we've set the input to be 50 words followed by the next word. In otherwords, sequences of length 51, or `input_size + output_size`.\n",
    "\n",
    "The resulting list, `sequences`, is a list of strings with only 51 words each."
   ]
  },
  {
   "cell_type": "code",
   "execution_count": 31,
   "metadata": {},
   "outputs": [
    {
     "name": "stdout",
     "output_type": "stream",
     "text": [
      "Total Sequences: 81643\n"
     ]
    }
   ],
   "source": [
    "# organize into sequences of tokens\n",
    "length = input_size + output_size\n",
    "sequences = list()\n",
    "for i in range(length, len(tokens)):\n",
    "    # select sequence of tokens\n",
    "    seq = tokens[i-length:i]\n",
    "    # convert into a line\n",
    "    line = ' '.join(seq)\n",
    "    # store\n",
    "    sequences.append(line)\n",
    "print('Total Sequences: %d' % len(sequences))"
   ]
  },
  {
   "cell_type": "markdown",
   "metadata": {},
   "source": [
    "In addition, we also create a function that will export the above list of strings to a separate document."
   ]
  },
  {
   "cell_type": "code",
   "execution_count": 32,
   "metadata": {},
   "outputs": [],
   "source": [
    "# save tokens to file, one dialog per line\n",
    "def save_doc(lines, filename):\n",
    "    data = '\\n'.join(lines)\n",
    "    file = open(filename, 'w')\n",
    "    file.write(data)\n",
    "    file.close()"
   ]
  },
  {
   "cell_type": "markdown",
   "metadata": {},
   "source": [
    "Now we call the function"
   ]
  },
  {
   "cell_type": "code",
   "execution_count": 33,
   "metadata": {},
   "outputs": [],
   "source": [
    "# save sequences to file\n",
    "save_doc(sequences, out_filename)"
   ]
  },
  {
   "cell_type": "markdown",
   "metadata": {},
   "source": [
    "# Training The Model\n",
    "\n",
    "Now that we've done the data preparation, we can load the dataset and really prepare it for the model by one hot encoding.\n",
    "\n",
    "## Load the Sequences\n",
    "\n",
    "First, we load the file!"
   ]
  },
  {
   "cell_type": "code",
   "execution_count": 48,
   "metadata": {},
   "outputs": [
    {
     "data": {
      "text/plain": [
       "'mr . and mrs . dursley of number four privet drive were proud to say that they were perfectly normal thank you very much . they were the last people youd expect to be involved in anything strange or mysterious because they just didnt hold with such nonsense . mr .'"
      ]
     },
     "execution_count": 48,
     "metadata": {},
     "output_type": "execute_result"
    }
   ],
   "source": [
    "# load doc into memory\n",
    "def load_doc(filename):\n",
    "    # open the file as read only\n",
    "    file = open(filename, 'r')\n",
    "    # read all text\n",
    "    text = file.read()\n",
    "    # close the file\n",
    "    file.close()\n",
    "    return text\n",
    "\n",
    "# load\n",
    "doc = load_doc(\"harry-potter.txt\")\n",
    "lines = doc.split('\\n')\n",
    "lines[0]"
   ]
  },
  {
   "cell_type": "markdown",
   "metadata": {},
   "source": [
    "## Encode the Sequences\n",
    "\n",
    "Now, before we can train the model on the data, we need to tokenize the data again. We load the Tokenizer, and use it to prepare the lines. We save these tokenized sentences into an array of sequences. "
   ]
  },
  {
   "cell_type": "code",
   "execution_count": 72,
   "metadata": {},
   "outputs": [],
   "source": [
    "# remove punctuation from each token\n",
    "punctuation = string.punctuation.replace(\".\", \"\")\n",
    "# integer encode sequences of words\n",
    "tokenizer = Tokenizer(filters=punctuation)\n",
    "tokenizer.fit_on_texts(lines)\n",
    "sequences = tokenizer.texts_to_sequences(lines)\n",
    "# save the tokenizer\n",
    "dump(tokenizer, open('tokenizer.pkl', 'wb'))"
   ]
  },
  {
   "cell_type": "markdown",
   "metadata": {},
   "source": [
    "Now let's take a quick look at the vocabulary size of the model. This basically shows how many words the model has available to pick from when predicting the next word.\n",
    "\n",
    "We'll also store this vocabulary size into a variable `vocab_size` to use in defining our model later."
   ]
  },
  {
   "cell_type": "code",
   "execution_count": null,
   "metadata": {},
   "outputs": [],
   "source": []
  },
  {
   "cell_type": "code",
   "execution_count": 68,
   "metadata": {},
   "outputs": [],
   "source": []
  },
  {
   "cell_type": "code",
   "execution_count": 69,
   "metadata": {
    "collapsed": true
   },
   "outputs": [
    {
     "data": {
      "text/plain": [
       "'[\".\",\"the\",\"and\",\"to\",\"a\",\"he\",\"of\",\"harry\",\"was\",\"it\",\"in\",\"his\",\"you\",\"said\",\"had\",\"i\",\"on\",\"at\",\"they\",\"that\",\"as\",\"him\",\"but\",\"with\",\"ron\",\"all\",\"out\",\"for\",\"be\",\"up\",\"what\",\"were\",\"hagrid\",\"them\",\"have\",\"there\",\"hermione\",\"back\",\"one\",\"if\",\"from\",\"this\",\"so\",\"its\",\"not\",\"she\",\"about\",\"into\",\"an\",\"their\",\"been\",\"got\",\"me\",\"know\",\"off\",\"didnt\",\"like\",\"could\",\"get\",\"no\",\"just\",\"down\",\"professor\",\"her\",\"when\",\"who\",\"see\",\"is\",\"very\",\"over\",\"looked\",\"do\",\"then\",\"now\",\"are\",\"we\",\"by\",\"your\",\"dont\",\"around\",\"dumbledore\",\"snape\",\"hed\",\"well\",\"how\",\"going\",\"never\",\"go\",\"through\",\"think\",\"something\",\"look\",\"right\",\"uncle\",\"im\",\"time\",\"harrys\",\"first\",\"dudley\",\"only\",\"looking\",\"more\",\"or\",\"would\",\"malfoy\",\"my\",\"even\",\"couldnt\",\"door\",\"eyes\",\"before\",\"here\",\"vernon\",\"did\",\"neville\",\"too\",\"head\",\"two\",\"where\",\"again\",\"yeh\",\"next\",\"thought\",\"mcgonagall\",\"than\",\"way\",\"come\",\"told\",\"still\",\"people\",\"face\",\"other\",\"quirrell\",\"which\",\"room\",\"will\",\"potter\",\"though\",\"good\",\"because\",\"last\",\"left\",\"can\",\"thats\",\"gryffindor\",\"mr\",\"some\",\"behind\",\"boy\",\"ter\",\"house\",\"turned\",\"three\",\"us\",\"came\",\"wasnt\",\"hes\",\"ive\",\"heard\",\"hogwarts\",\"say\",\"much\",\"seemed\",\"want\",\"little\",\"toward\",\"great\",\"once\",\"tell\",\"long\",\"really\",\"stone\",\"anything\",\"found\",\"went\",\"suddenly\",\"hand\",\"away\",\"after\",\"bit\",\"made\",\"why\",\"oh\",\"aunt\",\"knew\",\"himself\",\"yes\",\"trying\",\"cant\",\"tried\",\"saw\",\"took\",\"take\",\"school\",\"any\",\"let\",\"dark\",\"put\",\"ever\",\"while\",\"asked\",\"wand\",\"old\",\"voice\",\"inside\",\"petunia\",\"must\",\"day\",\"cloak\",\"black\",\"youre\",\"quidditch\",\"open\",\"keep\",\"nothing\",\"another\",\"hadnt\",\"few\",\"might\",\"every\",\"everyone\",\"find\",\"dursley\",\"seen\",\"things\",\"make\",\"wood\",\"yer\",\"dursleys\",\"years\",\"floor\",\"front\",\"feet\",\"large\",\"pulled\",\"gone\",\"end\",\"ill\",\"hall\",\"felt\",\"mind\",\"wouldnt\",\"course\",\"started\",\"almost\",\"thing\",\"filch\",\"fell\",\"walked\",\"night\",\"air\",\"slytherin\",\"weasley\",\"magic\",\"lot\",\"mrs\",\"wanted\",\"sat\",\"until\",\"enough\",\"moment\",\"stop\",\"table\",\"called\",\"high\",\"past\",\"mirror\",\"saying\",\"quickly\",\"letter\",\"owl\",\"second\",\"later\",\"name\",\"should\",\"books\",\"read\",\"sure\",\"done\",\"theres\",\"our\",\"always\",\"bed\",\"theyre\",\"without\",\"already\",\"points\",\"half\",\"better\",\"weve\",\"try\",\"caught\",\"under\",\"yet\",\"hat\",\"wizard\",\"new\",\"these\",\"across\",\"being\",\"whats\",\"remember\",\"life\",\"onto\",\"kept\",\"nearly\",\"gave\",\"same\",\"stood\",\"reached\",\"fire\",\"anyone\",\"outside\",\"quite\",\"wall\",\"hair\",\"theyd\",\"madam\",\"full\",\"percy\",\"stared\",\"whispered\",\"each\",\"white\",\"four\",\"ground\",\"hagrids\",\"top\",\"forward\",\"youll\",\"year\",\"against\",\"fred\",\"man\",\"standing\",\"else\",\"ask\",\"silver\",\"whole\",\"hands\",\"getting\",\"give\",\"own\",\"coming\",\"doing\",\"broom\",\"small\",\"window\",\"morning\",\"five\",\"has\",\"place\",\"both\",\"best\",\"hear\",\"youve\",\"train\",\"peeves\",\"green\",\"minutes\",\"id\",\"mean\",\"happened\",\"along\",\"forest\",\"side\",\"most\",\"someone\",\"sorry\",\"suppose\",\"nose\",\"hard\",\"red\",\"o\",\"corridor\",\"everything\",\"noticed\",\"help\",\"funny\",\"shouted\",\"stopped\",\"voldemort\",\"talking\",\"anyway\",\"fer\",\"lost\",\"dragon\",\"hundred\",\"george\",\"troll\",\"big\",\"mother\",\"ten\",\"father\",\"gold\",\"gringotts\",\"students\",\"work\",\"light\",\"bad\",\"taken\",\"need\",\"wizards\",\"many\",\"broomstick\",\"werent\",\"those\",\"set\",\"sitting\",\"move\",\"robes\",\"able\",\"cold\",\"holding\",\"don\",\"team\",\"snapes\",\"sight\",\"snapped\",\"straight\",\"wont\",\"heart\",\"feeling\",\"round\",\"trouble\",\"sort\",\"use\",\"corner\",\"except\",\"passed\",\"words\",\"nice\",\"catch\",\"family\",\"giant\",\"rest\",\"stay\",\"match\",\"christmas\",\"cat\",\"dead\",\"finally\",\"week\",\"dudleys\",\"common\",\"staring\",\"famous\",\"world\",\"arms\",\"began\",\"either\",\"library\",\"shut\",\"empty\",\"note\",\"book\",\"twins\",\"blood\",\"flamel\",\"strange\",\"hardly\",\"reason\",\"moved\",\"legs\",\"muggle\",\"since\",\"far\",\"isnt\",\"held\",\"rather\",\"exactly\",\"believe\",\"does\",\"dog\",\"noise\",\"parents\",\"class\",\"seven\",\"between\",\"unicorn\",\"granger\",\"goyle\",\"castle\",\"quirrells\",\"fluffy\",\"youd\",\"street\",\"watched\",\"pointed\",\"havent\",\"muttered\",\"knows\",\"answer\",\"mouth\",\"cupboard\",\"fat\",\"horrible\",\"hope\",\"dropped\",\"send\",\"crabbe\",\"norbert\",\"such\",\"stupid\",\"together\",\"owls\",\"however\",\"different\",\"asleep\",\"smiling\",\"gasped\",\"kill\",\"huge\",\"fast\",\"yeah\",\"slowly\",\"gotten\",\"feel\",\"somewhere\",\"glass\",\"ceiling\",\"cup\",\"speak\",\"managed\",\"letters\",\"pale\",\"followed\",\"forget\",\"flitwick\",\"ronan\",\"drive\",\"met\",\"car\",\"close\",\"sir\",\"muggles\",\"watching\",\"bright\",\"spoke\",\"call\",\"turn\",\"talk\",\"opened\",\"taking\",\"stand\",\"arm\",\"game\",\"start\",\"leave\",\"given\",\"raised\",\"ran\",\"teachers\",\"wait\",\"hut\",\"pleased\",\"idea\",\"third\",\"rons\",\"quaffle\",\"neck\",\"usual\",\"wearing\",\"knocked\",\"loudly\",\"word\",\"perhaps\",\"sleep\",\"woman\",\"heads\",\"watch\",\"pointing\",\"boys\",\"sound\",\"stepped\",\"shook\",\"nine\",\"leg\",\"maybe\",\"telling\",\"snake\",\"run\",\"making\",\"brought\",\"please\",\"follow\",\"dragons\",\"alone\",\"thousand\",\"cauldron\",\"play\",\"hufflepuff\",\"platform\",\"seamus\",\"snitch\",\"firenze\",\"allowed\",\"potters\",\"forgotten\",\"realized\",\"dear\",\"er\",\"waiting\",\"lay\",\"wrong\",\"pocket\",\"twelve\",\"times\",\"sit\",\"threw\",\"disappeared\",\"lucky\",\"hell\",\"seat\",\"pain\",\"listen\",\"won\",\"field\",\"safe\",\"money\",\"ollivander\",\"gryffindors\",\"sent\",\"fifty\",\"number\",\"arrived\",\"picked\",\"walls\",\"sign\",\"supposed\",\"seem\",\"doors\",\"tonight\",\"pair\",\"turning\",\"near\",\"bet\",\"understand\",\"ready\",\"above\",\"dumbledores\",\"showed\",\"used\",\"died\",\"chocolate\",\"pushed\",\"crowd\",\"meet\",\"became\",\"ahead\",\"home\",\"privet\",\"twice\",\"also\",\"having\",\"yelled\",\"afternoon\",\"seconds\",\"wide\",\"instead\",\"lamp\",\"glasses\",\"eleven\",\"shoulder\",\"low\",\"silence\",\"scar\",\"mad\",\"piers\",\"terrible\",\"shop\",\"thanks\",\"dad\",\"deep\",\"breath\",\"toad\",\"climbed\",\"others\",\"nimbus\",\"nicolas\",\"chamber\",\"nevilles\",\"malfoys\",\"trees\",\"slytherins\",\"break\",\"fang\",\"tree\",\"sorcerers\",\"bane\",\"secret\",\"sister\",\"fact\",\"fingers\",\"free\",\"important\",\"hurried\",\"tiny\",\"today\",\"yourself\",\"wondered\",\"evening\",\"flying\",\"tea\",\"angry\",\"stuff\",\"tail\",\"broken\",\"liked\",\"wild\",\"bent\",\"swung\",\"pink\",\"playing\",\"walking\",\"kitchen\",\"thick\",\"matter\",\"body\",\"worse\",\"leapt\",\"mail\",\"friends\",\"p\",\"jumped\",\"nearer\",\"grounds\",\"loud\",\"mom\",\"scared\",\"spell\",\"flew\",\"learn\",\"nervous\",\"sudden\",\"themselves\",\"charlie\",\"ghost\",\"turban\",\"portrait\",\"hurt\",\"flint\",\"invisibility\",\"several\",\"gray\",\"sky\",\"soon\",\"thinking\",\"obviously\",\"seized\",\"point\",\"smile\",\"middle\",\"direction\",\"apart\",\"nasty\",\"upstairs\",\"purple\",\"lose\",\"true\",\"late\",\"carefully\",\"london\",\"wed\",\"ago\",\"birthday\",\"questions\",\"quiet\",\"six\",\"paper\",\"shed\",\"hit\",\"hour\",\"screamed\",\"running\",\"practice\",\"shaking\",\"whos\",\"foot\",\"package\",\"eh\",\"cart\",\"anythin\",\"quietly\",\"arent\",\"expelled\",\"potions\",\"smiled\",\"hanging\",\"pile\",\"brooms\",\"show\",\"added\",\"hedwig\",\"scabbers\",\"miss\",\"staircase\",\"ages\",\"guarding\",\"expect\",\"walk\",\"buy\",\"finished\",\"oclock\",\"happy\",\"pull\",\"explain\",\"expected\",\"dare\",\"appeared\",\"tall\",\"beard\",\"blue\",\"sharp\",\"real\",\"somehow\",\"odd\",\"live\",\"forehead\",\"minute\",\"step\",\"ball\",\"knees\",\"difficult\",\"grabbed\",\"hurry\",\"leaving\",\"smell\",\"heavy\",\"line\",\"lying\",\"twenty\",\"faces\",\"rock\",\"witch\",\"killed\",\"powerful\",\"wands\",\"hole\",\"worry\",\"key\",\"griphook\",\"ones\",\"leaned\",\"says\",\"hung\",\"leaves\",\"weasleys\",\"ears\",\"card\",\"path\",\"eye\",\"norris\",\"classroom\",\"bin\",\"tower\",\"crate\",\"bludgers\",\"chess\",\"hold\",\"although\",\"spent\",\"possible\",\"story\",\"none\",\"hoping\",\"edge\",\"probably\",\"changed\",\"spotted\",\"living\",\"hundreds\",\"nervously\",\"decided\",\"crept\",\"albus\",\"pomfrey\",\"shot\",\"broke\",\"cried\",\"written\",\"known\",\"underneath\",\"landed\",\"furiously\",\"usually\",\"rose\",\"balls\",\"rolled\",\"racing\",\"case\",\"horror\",\"friend\",\"easy\",\"listening\",\"families\",\"fall\",\"vernons\",\"shock\",\"coat\",\"closer\",\"nobody\",\"glad\",\"burst\",\"clearly\",\"em\",\"days\",\"chance\",\"wondering\",\"steal\",\"ah\",\"bottle\",\"touch\",\"station\",\"magical\",\"inches\",\"clapped\",\"brothers\",\"lets\",\"lessons\",\"hooch\",\"hermiones\",\"seeker\",\"thin\",\"fear\",\"keeping\",\"woke\",\"chair\",\"bye\",\"throwing\",\"realize\",\"jerked\",\"young\",\"single\",\"bag\",\"worried\",\"learned\",\"carrying\",\"whether\",\"midnight\",\"busy\",\"slipped\",\"careful\",\"nodded\",\"may\",\"golden\",\"less\",\"size\",\"baby\",\"luck\",\"happen\",\"knowing\",\"pulling\",\"stairs\",\"hidden\",\"presents\",\"television\",\"unless\",\"question\",\"crash\",\"egg\",\"reminded\",\"brown\",\"surprise\",\"locked\",\"shouldnt\",\"dangerous\",\"bought\",\"entrance\",\"starting\",\"windows\",\"food\",\"during\",\"waved\",\"holidays\",\"flat\",\"carried\",\"breakfast\",\"stick\",\"mistake\",\"ear\",\"working\",\"earth\",\"eat\",\"tomorrow\",\"storm\",\"agreed\",\"boat\",\"sofa\",\"keys\",\"wonder\",\"sounded\",\"term\",\"indeed\",\"girl\",\"outta\",\"curse\",\"remembered\",\"umbrella\",\"die\",\"lock\",\"row\",\"barrier\",\"leaky\",\"goblin\",\"narrow\",\"cross\",\"goes\",\"headed\",\"lee\",\"prefect\",\"hang\",\"ravenclaw\",\"studying\",\"draco\",\"doesnt\",\"corridors\",\"joined\",\"dormitory\",\"teacher\",\"save\",\"plant\",\"clearing\",\"jordan\",\"normal\",\"son\",\"noticing\",\"whatever\",\"least\",\"tight\",\"kind\",\"gets\",\"neither\",\"bowed\",\"power\",\"myself\",\"wake\",\"poor\",\"business\",\"silent\",\"hours\",\"weeks\",\"dream\",\"hated\",\"parcel\",\"lady\",\"change\",\"laughed\",\"sweater\",\"relief\",\"jump\",\"wind\",\"fly\",\"ice\",\"slid\",\"keeper\",\"death\",\"wandering\",\"water\",\"envelope\",\"parchment\",\"handed\",\"following\",\"theyll\",\"knock\",\"opposite\",\"drink\",\"twin\",\"box\",\"drew\",\"jus\",\"teeth\",\"frog\",\"afraid\",\"halloween\",\"job\",\"ordinary\",\"names\",\"am\",\"giving\",\"steps\",\"broomsticks\",\"stuck\",\"facing\",\"potion\",\"vault\",\"interesting\",\"study\",\"wing\",\"brother\",\"trunk\",\"compartment\",\"charlies\",\"quick\",\"flavor\",\"eating\",\"footsteps\",\"lead\",\"dean\",\"bloody\",\"covered\",\"invisible\",\"trapdoor\",\"stands\",\"bludger\",\"exams\",\"thank\",\"clothes\",\"couple\",\"sped\",\"lots\",\"mention\",\"spot\",\"dinner\",\"news\",\"whisper\",\"lips\",\"awake\",\"notice\",\"seems\",\"certainly\",\"person\",\"swallowed\",\"motorcycle\",\"simply\",\"cut\",\"lit\",\"often\",\"asking\",\"needed\",\"pig\",\"thirty\",\"worth\",\"suggested\",\"snarled\",\"cry\",\"crying\",\"force\",\"become\",\"wished\",\"forbidden\",\"rushed\",\"trembling\",\"furious\",\"fight\",\"sighed\",\"meant\",\"alive\",\"pieces\",\"piece\",\"damp\",\"halfway\",\"sea\",\"led\",\"wooden\",\"cheer\",\"knocking\",\"terrified\",\"yehve\",\"breaking\",\"pockets\",\"yours\",\"faced\",\"interested\",\"wanting\",\"herself\",\"faded\",\"gotta\",\"dunno\",\"bottom\",\"looks\",\"arts\",\"brilliant\",\"twisted\",\"marble\",\"stones\",\"passageway\",\"hate\",\"stool\",\"excuse\",\"nostrils\",\"laughing\",\"desperate\",\"marched\",\"haired\",\"girls\",\"waving\",\"frogs\",\"grass\",\"shes\",\"win\",\"remembrall\",\"branches\",\"rules\",\"reflection\",\"dogs\",\"shows\",\"fun\",\"anywhere\",\"road\",\"cats\",\"shake\",\"dressed\",\"harder\",\"angrily\",\"clutching\",\"grunted\",\"stranger\",\"yesterday\",\"theyve\",\"stars\",\"shocked\",\"sharply\",\"peered\",\"showing\",\"slammed\",\"swooped\",\"silently\",\"chuckled\",\"clicked\",\"darkness\",\"fine\",\"care\",\"lemon\",\"drop\",\"voldemorts\",\"t\",\"sounding\",\"pressed\",\"lily\",\"moving\",\"sweets\",\"trust\",\"underground\",\"hissed\",\"shoulders\",\"kicked\",\"shall\",\"murmured\",\"special\",\"bottles\",\"lived\",\"bacon\",\"entered\",\"newspaper\",\"wants\",\"zoo\",\"warning\",\"saturday\",\"wrapped\",\"visit\",\"waited\",\"safely\",\"sometimes\",\"flash\",\"summer\",\"crossed\",\"toilet\",\"uniform\",\"cake\",\"tears\",\"itll\",\"noses\",\"smelting\",\"notes\",\"ignored\",\"wheres\",\"touched\",\"stayed\",\"ways\",\"worked\",\"howling\",\"passing\",\"clean\",\"easily\",\"strode\",\"slightly\",\"filled\",\"hot\",\"anymore\",\"shadows\",\"growled\",\"eagerly\",\"list\",\"roll\",\"rubbish\",\"evil\",\"witches\",\"somethin\",\"needs\",\"teach\",\"truth\",\"goblins\",\"clear\",\"ministry\",\"seats\",\"shops\",\"peering\",\"welcome\",\"diagon\",\"solid\",\"quills\",\"warned\",\"finding\",\"thirteen\",\"houses\",\"thousands\",\"piled\",\"feather\",\"higher\",\"sparks\",\"muttering\",\"thinks\",\"guard\",\"packed\",\"loads\",\"wish\",\"particularly\",\"woods\",\"mustve\",\"players\",\"boats\",\"sorting\",\"midair\",\"means\",\"finnigan\",\"longbottom\",\"properly\",\"armor\",\"dungeons\",\"charms\",\"lesson\",\"homework\",\"sprang\",\"snout\",\"attention\",\"goal\",\"chasers\",\"club\",\"feast\",\"trolls\",\"binoculars\",\"locker\",\"chessmen\",\"knight\",\"figure\",\"surprised\",\"drills\",\"mustache\",\"garden\",\"drove\",\"excitedly\",\"emerald\",\"struck\",\"overhead\",\"telephone\",\"split\",\"everywhere\",\"shooting\",\"cleared\",\"bedroom\",\"fixed\",\"nor\",\"nearest\",\"completely\",\"gently\",\"mcgonagalls\",\"beneath\",\"planets\",\"repeated\",\"hiding\",\"blankets\",\"relieved\",\"perfect\",\"s\",\"join\",\"blew\",\"computer\",\"favorite\",\"rule\",\"difference\",\"plates\",\"rang\",\"control\",\"mothers\",\"tired\",\"hide\",\"grown\",\"moaned\",\"vanished\",\"imagine\",\"everybody\",\"training\",\"laugh\",\"bill\",\"h\",\"joke\",\"whod\",\"grab\",\"tap\",\"stomach\",\"crack\",\"shelves\",\"stretched\",\"thrown\",\"darkly\",\"fighting\",\"pack\",\"speeding\",\"hasnt\",\"below\",\"lumpy\",\"shivered\",\"wrist\",\"doorway\",\"summat\",\"sausages\",\"wonderful\",\"gettin\",\"abou\",\"nothin\",\"reckon\",\"wizardry\",\"nah\",\"cause\",\"courage\",\"wizarding\",\"breathing\",\"vol\",\"human\",\"knuts\",\"speed\",\"spells\",\"clambered\",\"history\",\"ticket\",\"hurrying\",\"delighted\",\"d\",\"soft\",\"scarlet\",\"leading\",\"lake\",\"smoke\",\"pinned\",\"fathers\",\"soccer\",\"fangs\",\"excellent\",\"alley\",\"kings\",\"hospital\",\"platforms\",\"board\",\"youngest\",\"panted\",\"floating\",\"prefects\",\"brave\",\"beans\",\"cakes\",\"stunned\",\"extra\",\"lurking\",\"firs\",\"losing\",\"mountain\",\"classes\",\"return\",\"ghosts\",\"tables\",\"cheers\",\"teams\",\"laughter\",\"patil\",\"headless\",\"fallen\",\"rid\",\"wherever\",\"handle\",\"dive\",\"dived\",\"trophy\",\"moonlight\",\"speaking\",\"backward\",\"dragged\",\"hoops\",\"posts\",\"view\",\"cheering\",\"flames\",\"restricted\",\"flute\",\"centaur\",\"exam\",\"mysterious\",\"grin\",\"proud\",\"useful\",\"opinion\",\"greatest\",\"bear\",\"happily\",\"eight\",\"blinked\",\"town\",\"strangely\",\"older\",\"nerve\",\"office\",\"daylight\",\"mood\",\"eyed\",\"unusual\",\"upset\",\"stare\",\"celebrating\",\"imagining\",\"throat\",\"mumbled\",\"age\",\"bathroom\",\"twitched\",\"boots\",\"moon\",\"pop\",\"lights\",\"proper\",\"frightened\",\"handkerchief\",\"places\",\"bring\",\"bringing\",\"grew\",\"trash\",\"bundle\",\"curiously\",\"lightning\",\"bike\",\"wiping\",\"neat\",\"closed\",\"meeting\",\"voices\",\"sun\",\"brass\",\"photographs\",\"groaned\",\"wore\",\"barked\",\"eggs\",\"meanwhile\",\"adventure\",\"figg\",\"snowy\",\"rat\",\"peoples\",\"pretending\",\"putting\",\"short\",\"bald\",\"gang\",\"complained\",\"complain\",\"slithering\",\"bits\",\"tapped\",\"itself\",\"winked\",\"boa\",\"leaning\",\"worst\",\"collapsed\",\"sticks\",\"ickle\",\"skin\",\"yellow\",\"faster\",\"faint\",\"possibly\",\"forced\",\"sick\",\"purpose\",\"miserably\",\"explained\",\"badly\",\"hungry\",\"clapping\",\"eaten\",\"enormous\",\"warmth\",\"yehll\",\"panic\",\"sank\",\"lower\",\"mum\",\"witchcraft\",\"exploded\",\"shrieked\",\"blown\",\"kid\",\"blimey\",\"friendly\",\"mark\",\"weak\",\"carry\",\"beaming\",\"fool\",\"gamekeeper\",\"scrambled\",\"pay\",\"coins\",\"bronze\",\"rob\",\"miles\",\"transfiguration\",\"music\",\"halt\",\"excitement\",\"pick\",\"b\",\"grinned\",\"archway\",\"chest\",\"hurtled\",\"helped\",\"feathers\",\"bell\",\"oak\",\"tightly\",\"happens\",\"plastic\",\"quarters\",\"ginny\",\"okay\",\"gran\",\"hey\",\"whistle\",\"captain\",\"afford\",\"impressed\",\"sandwiches\",\"mars\",\"unwrapped\",\"cards\",\"becoming\",\"yell\",\"bewitched\",\"anxiously\",\"glittering\",\"pretty\",\"barely\",\"roast\",\"winning\",\"warm\",\"contact\",\"bellowed\",\"lines\",\"baron\",\"filchs\",\"herbology\",\"desk\",\"believed\",\"tut\",\"crossbow\",\"streaked\",\"throw\",\"dyou\",\"squinting\",\"sprinted\",\"ropes\",\"sixty\",\"score\",\"wings\",\"saved\",\"chaser\",\"marcus\",\"possession\",\"towering\",\"section\",\"erised\",\"elixir\",\"werewolf\",\"calm\",\"detention\",\"devils\",\"involved\",\"perfectly\",\"suggest\",\"happening\",\"screaming\",\"cheek\",\"missed\",\"peculiar\",\"reading\",\"map\",\"tabby\",\"cloaks\",\"whispering\",\"ing\",\"flooded\",\"blame\",\"stumbled\",\"complete\",\"rattled\",\"hoped\",\"stern\",\"problems\",\"report\",\"birds\",\"rain\",\"early\",\"casually\",\"mixed\",\"sparkling\",\"distance\",\"seeing\",\"ruffled\",\"sniffed\",\"everyones\",\"bound\",\"dedalus\",\"sideways\",\"sweet\",\"coldly\",\"piercing\",\"james\",\"heavily\",\"guess\",\"pretend\",\"leather\",\"jet\",\"shaped\",\"bolt\",\"knee\",\"sobbed\",\"shone\",\"staying\",\"takin\",\"sleeve\",\"nodding\",\"orange\",\"beside\",\"woken\",\"blond\",\"fair\",\"socks\",\"tape\",\"counted\",\"mommy\",\"danger\",\"unwrap\",\"hamburger\",\"smelled\",\"owned\",\"ought\",\"lord\",\"frantically\",\"aside\",\"problem\",\"fitted\",\"punished\",\"roof\",\"received\",\"crashed\",\"crowded\",\"animals\",\"ate\",\"finish\",\"sorts\",\"budge\",\"shuffled\",\"constrictor\",\"shout\",\"hissing\",\"brandy\",\"wishing\",\"sneaking\",\"younger\",\"dreamed\",\"merrily\",\"september\",\"stonewall\",\"dirty\",\"bowl\",\"argue\",\"dodged\",\"rude\",\"addressed\",\"ink\",\"stamp\",\"ripped\",\"mine\",\"writing\",\"glancing\",\"clutched\",\"goodness\",\"roared\",\"necks\",\"quivering\",\"wildly\",\"shiny\",\"squeezed\",\"shortly\",\"trip\",\"month\",\"downstairs\",\"smallest\",\"confused\",\"plan\",\"clock\",\"squashy\",\"lap\",\"thatll\",\"minds\",\"friday\",\"amazement\",\"fireplace\",\"missing\",\"gloomy\",\"sheets\",\"toast\",\"beat\",\"perched\",\"bobbing\",\"icy\",\"whipped\",\"strongly\",\"bags\",\"fierce\",\"crunching\",\"warn\",\"glinting\",\"squeaked\",\"overcoat\",\"gives\",\"thundered\",\"anger\",\"marks\",\"braver\",\"rage\",\"headmaster\",\"decide\",\"horse\",\"quill\",\"folk\",\"rats\",\"mystry\",\"incredible\",\"lookin\",\"battered\",\"makes\",\"ours\",\"kick\",\"realizing\",\"poking\",\"temper\",\"eyebrows\",\"tapping\",\"fluttered\",\"dyeh\",\"didn\",\"wouldn\",\"yehd\",\"shame\",\"enchantments\",\"manage\",\"fudge\",\"herbs\",\"fungi\",\"grubby\",\"drinking\",\"pipe\",\"bartender\",\"twitching\",\"defense\",\"brightly\",\"cauldrons\",\"plump\",\"bat\",\"floors\",\"counter\",\"flaming\",\"impossible\",\"rattling\",\"passage\",\"deeper\",\"gonna\",\"blinking\",\"galleons\",\"malkins\",\"lives\",\"ends\",\"played\",\"mixture\",\"rustling\",\"cage\",\"beautiful\",\"silvery\",\"reflected\",\"softly\",\"phoenix\",\"unicorns\",\"results\",\"foolish\",\"snatched\",\"packages\",\"bite\",\"swooping\",\"lift\",\"excited\",\"dry\",\"part\",\"honestly\",\"freckles\",\"trunks\",\"search\",\"hairy\",\"yourselves\",\"rounded\",\"flashed\",\"ourselves\",\"moments\",\"flick\",\"candy\",\"botts\",\"pumpkin\",\"share\",\"amazed\",\"tore\",\"century\",\"romania\",\"mentioned\",\"recognized\",\"interest\",\"extremely\",\"among\",\"glared\",\"nerves\",\"gliding\",\"banquet\",\"sorted\",\"forgive\",\"friar\",\"answered\",\"learning\",\"chosen\",\"doubt\",\"plate\",\"potatoes\",\"peas\",\"delicious\",\"nick\",\"championship\",\"offered\",\"deeply\",\"serious\",\"armchairs\",\"spiral\",\"curtains\",\"struggled\",\"pass\",\"threatening\",\"movements\",\"taught\",\"toppled\",\"rare\",\"owlery\",\"pairs\",\"idiot\",\"struggling\",\"emptied\",\"quicker\",\"sticking\",\"fault\",\"oliver\",\"severus\",\"player\",\"bathrobe\",\"finds\",\"petrified\",\"suit\",\"flushed\",\"obvious\",\"protect\",\"fluttering\",\"seekers\",\"months\",\"dying\",\"immediately\",\"foul\",\"hearts\",\"desperately\",\"bursting\",\"lie\",\"unfortunately\",\"ajar\",\"drawing\",\"angelina\",\"johnson\",\"blocked\",\"roughly\",\"recent\",\"suspected\",\"distant\",\"hooded\",\"breathe\",\"centaurs\",\"cursed\",\"snare\",\"queen\",\"cannot\",\"award\",\"nonsense\",\"unpleasant\",\"spying\",\"neighbors\",\"somebody\",\"pretended\",\"shuddered\",\"tuesday\",\"country\",\"hummed\",\"boring\",\"kiss\",\"tantrum\",\"backed\",\"trick\",\"order\",\"driven\",\"traffic\",\"jam\",\"silly\",\"parking\",\"concentrate\",\"mouthed\",\"nighttime\",\"dashed\",\"stroked\",\"worrying\",\"building\",\"violet\",\"hugged\",\"markings\",\"determined\",\"wife\",\"normally\",\"behaving\",\"sleeping\",\"weather\",\"acting\",\"promised\",\"wet\",\"armchair\",\"britain\",\"lately\",\"dared\",\"horribly\",\"subject\",\"statue\",\"quiver\",\"mans\",\"flicked\",\"outer\",\"shape\",\"brick\",\"dozen\",\"impatiently\",\"somethings\",\"irritably\",\"glance\",\"drops\",\"surely\",\"admiring\",\"calmly\",\"powers\",\"plain\",\"trembled\",\"examined\",\"sense\",\"jumping\",\"firmly\",\"wise\",\"rumbling\",\"roar\",\"bushy\",\"vast\",\"borrowed\",\"climbing\",\"lent\",\"destroyed\",\"c\",\"sad\",\"grip\",\"patting\",\"laid\",\"tucked\",\"muffled\",\"jacket\",\"engine\",\"swish\",\"astonishing\",\"slept\",\"scream\",\"cousin\",\"longer\",\"demanded\",\"punching\",\"smaller\",\"wear\",\"bigger\",\"knobbly\",\"counting\",\"present\",\"hows\",\"video\",\"camera\",\"games\",\"figgs\",\"leap\",\"marge\",\"blow\",\"wailed\",\"backs\",\"fit\",\"kitchens\",\"chasing\",\"bank\",\"roaring\",\"gigantic\",\"ideas\",\"licking\",\"scratching\",\"bored\",\"hitting\",\"cream\",\"lunch\",\"reptile\",\"cool\",\"ordered\",\"tank\",\"brazil\",\"deafening\",\"ribs\",\"swiftly\",\"strong\",\"bitten\",\"risk\",\"strained\",\"blinding\",\"buying\",\"shaken\",\"escape\",\"visited\",\"biggest\",\"sport\",\"private\",\"smeltings\",\"july\",\"wasn\",\"hats\",\"gruffly\",\"metal\",\"slot\",\"doormat\",\"postcard\",\"belong\",\"yellowish\",\"address\",\"lion\",\"eagle\",\"checking\",\"within\",\"croaked\",\"keyhole\",\"dangling\",\"ignore\",\"painful\",\"shelf\",\"bitterly\",\"mustnt\",\"stole\",\"tearing\",\"deliver\",\"sides\",\"burning\",\"cheerfully\",\"spread\",\"waist\",\"wrenched\",\"mutter\",\"hotel\",\"monday\",\"wicked\",\"iron\",\"freezing\",\"slipping\",\"sliding\",\"whistled\",\"reaching\",\"pause\",\"frame\",\"lump\",\"las\",\"mighta\",\"meself\",\"rubeus\",\"rubbing\",\"flickering\",\"sunk\",\"copper\",\"kettle\",\"teapot\",\"sausage\",\"wiped\",\"shrank\",\"bewildered\",\"forbid\",\"equipment\",\"stammered\",\"reminds\",\"tongue\",\"scribbled\",\"beak\",\"swore\",\"knowin\",\"sayin\",\"village\",\"sadly\",\"ruined\",\"glaring\",\"fists\",\"failed\",\"couldve\",\"goin\",\"stumped\",\"grow\",\"grateful\",\"swishing\",\"dancing\",\"trousers\",\"keen\",\"sunlight\",\"balloon\",\"wave\",\"peppermint\",\"sleepily\",\"mess\",\"proudly\",\"vaults\",\"daily\",\"prophet\",\"askin\",\"folded\",\"bills\",\"beasts\",\"protection\",\"pewter\",\"scales\",\"slow\",\"nowhere\",\"buried\",\"sold\",\"pub\",\"record\",\"women\",\"soul\",\"puffing\",\"scraping\",\"chairs\",\"doris\",\"crockford\",\"remembers\",\"n\",\"g\",\"vampires\",\"babble\",\"apothecary\",\"sickles\",\"screech\",\"towered\",\"clever\",\"enter\",\"earn\",\"weighing\",\"glowing\",\"closely\",\"handing\",\"sloped\",\"downward\",\"tracks\",\"difficulty\",\"fork\",\"plunged\",\"cost\",\"colder\",\"malkin\",\"robe\",\"hello\",\"drag\",\"liking\",\"tries\",\"setting\",\"sneer\",\"cheered\",\"color\",\"silk\",\"enemies\",\"ingredients\",\"ollivanders\",\"spindly\",\"strict\",\"boxes\",\"gloom\",\"charm\",\"favored\",\"misty\",\"finger\",\"gripped\",\"measure\",\"hairs\",\"crumpled\",\"tricky\",\"spots\",\"curious\",\"whose\",\"paid\",\"shell\",\"mice\",\"ticked\",\"ruddy\",\"talked\",\"pushing\",\"oldest\",\"joking\",\"jostled\",\"wound\",\"sigh\",\"poked\",\"oy\",\"sweaty\",\"badge\",\"gathered\",\"glanced\",\"blurted\",\"deal\",\"fields\",\"bars\",\"bettie\",\"pasties\",\"pasty\",\"modern\",\"uses\",\"alchemy\",\"partner\",\"reckons\",\"bean\",\"countryside\",\"bothered\",\"toadless\",\"simple\",\"rise\",\"events\",\"sounds\",\"flopped\",\"shown\",\"coolly\",\"mountains\",\"echoed\",\"beamed\",\"steep\",\"bend\",\"fleet\",\"smooth\",\"cliff\",\"trevor\",\"shadow\",\"fist\",\"begin\",\"awarded\",\"test\",\"glided\",\"ruff\",\"returned\",\"sandy\",\"double\",\"candles\",\"upward\",\"heavens\",\"rabbit\",\"sing\",\"daring\",\"song\",\"wrestling\",\"hannah\",\"definitely\",\"earlier\",\"thomas\",\"chicken\",\"steak\",\"nicholas\",\"interrupted\",\"chat\",\"barons\",\"treacle\",\"algie\",\"ankles\",\"sleepy\",\"ouch\",\"bounds\",\"frowning\",\"smiles\",\"singing\",\"yawning\",\"dropping\",\"coats\",\"sweeping\",\"chalk\",\"wheezing\",\"wednesday\",\"sprout\",\"binns\",\"fought\",\"stuffed\",\"effort\",\"powdered\",\"curled\",\"bezoar\",\"stretching\",\"dungeon\",\"copying\",\"boils\",\"clouds\",\"add\",\"refuse\",\"malfay\",\"turns\",\"rows\",\"rising\",\"sooner\",\"parvati\",\"cursing\",\"delight\",\"dreams\",\"pie\",\"duel\",\"ha\",\"nightmare\",\"space\",\"mistaking\",\"growls\",\"cared\",\"confusion\",\"stolen\",\"bolted\",\"beaters\",\"jaws\",\"fourth\",\"compared\",\"movement\",\"practicing\",\"skyward\",\"wingardium\",\"leviosa\",\"slumped\",\"hufflepuffs\",\"lip\",\"choice\",\"brain\",\"shouting\",\"strength\",\"banner\",\"men\",\"refereeing\",\"pucey\",\"raising\",\"penalty\",\"frightening\",\"sobbing\",\"seventy\",\"snow\",\"battle\",\"flamels\",\"pince\",\"belonged\",\"merry\",\"torn\",\"gleaming\",\"turkey\",\"wine\",\"recognize\",\"ronald\",\"pillow\",\"nights\",\"referee\",\"choked\",\"dashing\",\"pure\",\"choose\",\"relax\",\"st\",\"norwegian\",\"ridgeback\",\"norberts\",\"forever\",\"tallest\",\"love\",\"cover\",\"hoarse\",\"lies\",\"astronomy\",\"especially\",\"lowered\",\"humans\",\"neednt\",\"bishop\",\"squares\",\"poison\",\"logic\",\"master\",\"seize\",\"director\",\"firm\",\"grunnings\",\"blonde\",\"craning\",\"finer\",\"mixing\",\"child\",\"dull\",\"starts\",\"cloudy\",\"tawny\",\"flutter\",\"tyke\",\"chortled\",\"fours\",\"fashion\",\"steering\",\"huddle\",\"weirdos\",\"collecting\",\"broad\",\"calls\",\"lunchtime\",\"bun\",\"group\",\"uneasy\",\"bunch\",\"disturb\",\"nephew\",\"contrary\",\"passersby\",\"rooted\",\"imagination\",\"improve\",\"bird\",\"unusually\",\"unable\",\"jim\",\"oddly\",\"kent\",\"yorkshire\",\"promise\",\"frozen\",\"cups\",\"stiffly\",\"sinking\",\"comforting\",\"yawned\",\"unblinkingly\",\"popped\",\"narrowed\",\"swept\",\"spectacles\",\"crooked\",\"rummaging\",\"amuse\",\"lighter\",\"flickered\",\"beady\",\"square\",\"drawn\",\"ve\",\"stiff\",\"feasts\",\"parties\",\"diggle\",\"precious\",\"celebrate\",\"downright\",\"careless\",\"streets\",\"youknow\",\"fond\",\"persuade\",\"confusing\",\"noble\",\"blushed\",\"rumors\",\"anxious\",\"choosing\",\"patted\",\"heaven\",\"sniff\",\"numbers\",\"faintly\",\"future\",\"seriously\",\"cara\",\"swelled\",\"hid\",\"sirius\",\"visible\",\"scars\",\"shaggy\",\"doorstep\",\"twinkling\",\"streaming\",\"glowed\",\"heel\",\"breeze\",\"tidy\",\"spend\",\"prodded\",\"hushed\",\"colored\",\"kissed\",\"rapped\",\"screeched\",\"frying\",\"burn\",\"spiders\",\"exercise\",\"skinny\",\"appearance\",\"haircut\",\"smoothly\",\"wig\",\"auntie\",\"marges\",\"remote\",\"airplane\",\"sixteen\",\"vcr\",\"ripping\",\"restaurants\",\"cabbage\",\"paws\",\"hates\",\"slug\",\"vacation\",\"hopefully\",\"cars\",\"screwed\",\"spoil\",\"gap\",\"polkiss\",\"scrawny\",\"bangs\",\"baggy\",\"taped\",\"revolting\",\"wash\",\"elses\",\"chimney\",\"headmistress\",\"mid\",\"subjects\",\"motorcycles\",\"remembering\",\"sniggered\",\"sunny\",\"creams\",\"glory\",\"afterward\",\"crawling\",\"poisonous\",\"knuckles\",\"company\",\"hammering\",\"level\",\"plainly\",\"vigorously\",\"jabbed\",\"howls\",\"sworn\",\"snap\",\"miserable\",\"memory\",\"unknown\",\"strangers\",\"shopping\",\"actually\",\"vanish\",\"punishment\",\"escaping\",\"ray\",\"accepted\",\"public\",\"toilets\",\"tasted\",\"maroon\",\"knickerbockers\",\"handsome\",\"cracked\",\"tub\",\"sink\",\"swimming\",\"tightened\",\"wrinkled\",\"banged\",\"wax\",\"surrounding\",\"snorted\",\"disgust\",\"flipped\",\"informed\",\"unfolding\",\"sneered\",\"porridge\",\"reach\",\"choking\",\"stuffing\",\"slamming\",\"write\",\"shoes\",\"burned\",\"toys\",\"swapped\",\"rifle\",\"banging\",\"straightened\",\"gasping\",\"fail\",\"alarm\",\"trodden\",\"mouthful\",\"nails\",\"boarded\",\"cracks\",\"tiptoe\",\"noises\",\"post\",\"marmalade\",\"forty\",\"pelting\",\"ducked\",\"bouncing\",\"whenever\",\"blowing\",\"shared\",\"beds\",\"windowsill\",\"timidly\",\"count\",\"shack\",\"kindly\",\"toothless\",\"rations\",\"spray\",\"rooms\",\"chip\",\"shriveled\",\"privately\",\"moldy\",\"comfortable\",\"hunger\",\"drowned\",\"rolls\",\"lighted\",\"upright\",\"cannon\",\"stupidly\",\"armed\",\"smash\",\"mane\",\"tangled\",\"crouching\",\"heres\",\"shadowy\",\"beetle\",\"moms\",\"entering\",\"mouse\",\"taste\",\"sticky\",\"grate\",\"sagged\",\"poker\",\"chipped\",\"gulp\",\"gasp\",\"whistling\",\"merlin\",\"begins\",\"await\",\"clamped\",\"married\",\"scuttled\",\"urgently\",\"everythin\",\"gulped\",\"followers\",\"nicer\",\"killin\",\"touches\",\"bones\",\"orders\",\"clenched\",\"accept\",\"beating\",\"flattened\",\"codswallop\",\"blazing\",\"warty\",\"toads\",\"chased\",\"dreading\",\"ridiculous\",\"whirled\",\"squeal\",\"clasped\",\"cast\",\"shouldnta\",\"reasons\",\"attack\",\"fiercely\",\"humbugs\",\"handful\",\"tied\",\"safest\",\"spposed\",\"eager\",\"land\",\"guardin\",\"page\",\"main\",\"harbor\",\"tent\",\"gloves\",\"pupils\",\"copy\",\"standard\",\"guide\",\"emetic\",\"fantastic\",\"self\",\"crystal\",\"telescope\",\"aloud\",\"trains\",\"escalator\",\"lined\",\"parted\",\"piles\",\"shabby\",\"walnut\",\"chatter\",\"buckle\",\"bless\",\"bar\",\"diggles\",\"m\",\"courtyard\",\"wriggled\",\"wider\",\"stack\",\"collapsible\",\"liver\",\"seventeen\",\"ounce\",\"eeylops\",\"emporium\",\"barn\",\"fastest\",\"selling\",\"telescopes\",\"stacked\",\"barrels\",\"upon\",\"greed\",\"seek\",\"treasure\",\"stools\",\"emptying\",\"scattering\",\"biscuits\",\"importantly\",\"crammed\",\"trusted\",\"moren\",\"torches\",\"twisting\",\"stalagmites\",\"billowing\",\"fortune\",\"sickle\",\"gathering\",\"melted\",\"trapped\",\"check\",\"anyones\",\"extraordinary\",\"security\",\"expecting\",\"ride\",\"pound\",\"occasions\",\"footstool\",\"pin\",\"length\",\"drawling\",\"crime\",\"grinning\",\"servant\",\"drunk\",\"slight\",\"hopped\",\"nuts\",\"follows\",\"sorta\",\"postage\",\"covers\",\"curses\",\"latest\",\"circumstances\",\"jars\",\"dried\",\"roots\",\"claws\",\"horns\",\"checked\",\"animal\",\"jewel\",\"peeling\",\"dusty\",\"depths\",\"neatly\",\"prickled\",\"dust\",\"shining\",\"moons\",\"blink\",\"creepy\",\"mahogany\",\"chooses\",\"yew\",\"shuffling\",\"measured\",\"elbow\",\"substance\",\"measuring\",\"heap\",\"happier\",\"holly\",\"stream\",\"laden\",\"yerself\",\"acted\",\"paced\",\"wheeled\",\"attract\",\"briskly\",\"express\",\"drifted\",\"chattering\",\"hooted\",\"disgruntled\",\"lifted\",\"raise\",\"painfully\",\"jerk\",\"striding\",\"polite\",\"introduce\",\"wow\",\"sixth\",\"percys\",\"tipped\",\"collect\",\"agrippa\",\"picture\",\"currently\",\"defeat\",\"grindelwald\",\"discovery\",\"enjoys\",\"morgana\",\"weird\",\"sidled\",\"coconut\",\"baked\",\"nibble\",\"wilder\",\"keeps\",\"bossy\",\"familys\",\"twentieth\",\"whiskers\",\"explaining\",\"children\",\"bravely\",\"goyles\",\"picking\",\"scowling\",\"forests\",\"jackets\",\"slowed\",\"towers\",\"sailed\",\"flight\",\"magnificent\",\"ceremony\",\"outstanding\",\"whichever\",\"flatten\",\"jolt\",\"streamed\",\"pearly\",\"arguing\",\"floated\",\"form\",\"imagined\",\"splendid\",\"dotted\",\"mainly\",\"legged\",\"rip\",\"sleek\",\"cap\",\"dwell\",\"applause\",\"susan\",\"boot\",\"terry\",\"ravenclaws\",\"lavender\",\"jammed\",\"jog\",\"parkinson\",\"whispers\",\"fires\",\"shakily\",\"loudest\",\"bucket\",\"taller\",\"uncertainly\",\"genius\",\"chops\",\"boiled\",\"pudding\",\"gravy\",\"ketchup\",\"de\",\"mimsy\",\"coughed\",\"blank\",\"desserts\",\"trifle\",\"tart\",\"til\",\"accidentally\",\"matches\",\"needles\",\"goblet\",\"greasy\",\"hook\",\"nosed\",\"fed\",\"caretaker\",\"snakelike\",\"tune\",\"bare\",\"brains\",\"crowds\",\"portraits\",\"staircases\",\"firsties\",\"zooming\",\"password\",\"reveal\",\"cozy\",\"pajamas\",\"hangings\",\"heavier\",\"classrooms\",\"wastepaper\",\"creature\",\"bulging\",\"passageways\",\"ambition\",\"staff\",\"dates\",\"squeak\",\"messing\",\"changing\",\"complicated\",\"needle\",\"garlic\",\"zombie\",\"insisted\",\"sugar\",\"favors\",\"circling\",\"owners\",\"untidy\",\"afternoons\",\"paused\",\"calling\",\"gift\",\"creep\",\"bewitching\",\"fame\",\"speech\",\"root\",\"asphodel\",\"infusion\",\"wormwood\",\"faintest\",\"monkshood\",\"wolfsbane\",\"seamuss\",\"spat\",\"push\",\"spirits\",\"boarhound\",\"boiling\",\"massive\",\"letting\",\"bounded\",\"enjoying\",\"fitch\",\"puts\",\"continue\",\"searched\",\"date\",\"thursday\",\"stories\",\"exciting\",\"deans\",\"poster\",\"west\",\"ham\",\"grandmother\",\"accidents\",\"hawk\",\"twigs\",\"angles\",\"grangers\",\"horses\",\"mount\",\"steady\",\"falling\",\"slip\",\"wham\",\"thud\",\"facedown\",\"earshot\",\"darting\",\"glittered\",\"nastily\",\"pounding\",\"mounted\",\"soared\",\"rush\",\"joy\",\"screams\",\"gasps\",\"speechless\",\"lasted\",\"packing\",\"borrow\",\"fifth\",\"expression\",\"absolutely\",\"natural\",\"clue\",\"meal\",\"wheeling\",\"damage\",\"advice\",\"block\",\"bathrobes\",\"hunched\",\"interfering\",\"breathed\",\"scrambling\",\"bogies\",\"flitted\",\"statues\",\"edged\",\"madly\",\"gallery\",\"tripped\",\"crashing\",\"paces\",\"doorknob\",\"cackled\",\"naughty\",\"ducking\",\"alohomora\",\"monstrous\",\"rolling\",\"mouths\",\"seventh\",\"cheerful\",\"clues\",\"session\",\"glee\",\"twig\",\"bubbles\",\"basketball\",\"straining\",\"zigzagging\",\"wins\",\"understood\",\"shutting\",\"golf\",\"england\",\"announced\",\"f\",\"sending\",\"gar\",\"sleeves\",\"hovered\",\"startled\",\"decorations\",\"stutter\",\"helping\",\"sprinting\",\"askew\",\"terror\",\"dormitories\",\"groups\",\"directions\",\"fading\",\"patch\",\"victory\",\"hesitated\",\"driving\",\"sickening\",\"swayed\",\"racket\",\"rear\",\"fury\",\"admitted\",\"noisy\",\"embarrassed\",\"moleskin\",\"jar\",\"guilty\",\"limped\",\"hurting\",\"staffroom\",\"breathlessly\",\"pitch\",\"president\",\"performed\",\"colors\",\"blast\",\"fifteen\",\"spinnet\",\"reserve\",\"adrian\",\"scored\",\"feelings\",\"higgs\",\"yelling\",\"disgusting\",\"buck\",\"direct\",\"passes\",\"interfere\",\"clamber\",\"clap\",\"student\",\"concern\",\"disgusted\",\"signed\",\"spectacular\",\"trailing\",\"flatly\",\"discoveries\",\"developments\",\"titles\",\"wandered\",\"figures\",\"grandfather\",\"contained\",\"pence\",\"unwrapping\",\"material\",\"flung\",\"sharing\",\"crackers\",\"party\",\"feeble\",\"cloud\",\"chuckling\",\"redder\",\"luminous\",\"nagging\",\"bother\",\"shriek\",\"shrieks\",\"desks\",\"carved\",\"oyt\",\"reflections\",\"hungrily\",\"feared\",\"moaning\",\"transfixed\",\"insides\",\"desire\",\"prepared\",\"convinced\",\"nightmares\",\"skimming\",\"overtake\",\"fewer\",\"spluttered\",\"bunny\",\"countercurse\",\"urged\",\"grumpily\",\"ancient\",\"concerned\",\"drinker\",\"perenelle\",\"schools\",\"whove\",\"whirl\",\"shoot\",\"erupted\",\"hugging\",\"nearby\",\"stuttering\",\"beast\",\"hocus\",\"anti\",\"schedules\",\"crazy\",\"shhhh\",\"thoughtfully\",\"breeding\",\"stoat\",\"bush\",\"feed\",\"diffrent\",\"illegal\",\"hatching\",\"drained\",\"state\",\"believes\",\"sweat\",\"teddy\",\"heaved\",\"easier\",\"flared\",\"thrashing\",\"creeping\",\"detentions\",\"ashamed\",\"comfort\",\"dawn\",\"hero\",\"resign\",\"suffering\",\"proof\",\"sacked\",\"werewolves\",\"cracking\",\"winding\",\"inter\",\"killing\",\"creatures\",\"listened\",\"grimly\",\"hullo\",\"hooves\",\"dense\",\"galloping\",\"pawed\",\"examine\",\"sore\",\"surprises\",\"papers\",\"snuffbox\",\"invented\",\"wherere\",\"horrified\",\"caution\",\"waste\",\"bind\",\"loosening\",\"landing\",\"soaring\",\"darted\",\"knack\",\"offended\",\"mercy\",\"king\",\"instant\",\"onward\",\"nettle\",\"bravery\",\"binding\",\"blistering\",\"agony\",\"deadly\",\"organized\",\"delayed\",\"therefore\",\"alas\",\"loved\",\"rocker\",\"serpent\",\"gateway\",\"beefy\",\"amount\",\"fences\",\"discover\",\"husband\",\"undursleyish\",\"tie\",\"gossiped\",\"wrestled\",\"briefcase\",\"pecked\",\"cereal\",\"maps\",\"signs\",\"getups\",\"drummed\",\"wheel\",\"enraged\",\"stunt\",\"ninth\",\"swoop\",\"gazed\",\"stretch\",\"bakery\",\"bakers\",\"tin\",\"doughnut\",\"whisperers\",\"secretary\",\"dialing\",\"receiver\",\"harvey\",\"harold\",\"squeaky\",\"rejoice\",\"approve\",\"driveway\",\"shoo\",\"behavior\",\"daughter\",\"act\",\"watchers\",\"reported\",\"nations\",\"hunt\",\"sightings\",\"sunrise\",\"experts\",\"newscaster\",\"mcguffin\",\"showers\",\"ted\",\"weatherman\",\"viewers\",\"dundee\",\"phoning\",\"downpour\",\"bonfire\",\"folks\",\"sipped\",\"pursed\",\"howard\",\"related\",\"affect\",\"drifting\",\"sleepiness\",\"judging\",\"tuck\",\"belt\",\"heeled\",\"buckled\",\"unwelcome\",\"cigarette\",\"pinpricks\",\"pavement\",\"fancy\",\"severe\",\"distinctly\",\"flocks\",\"swapping\",\"thankful\",\"sensible\",\"flinched\",\"unsticking\",\"haven\",\"exasperated\",\"flatter\",\"discuss\",\"godrics\",\"hollow\",\"rumor\",\"glumly\",\"faltered\",\"survive\",\"lace\",\"dabbed\",\"kicking\",\"legend\",\"growing\",\"grudgingly\",\"tend\",\"steadily\",\"louder\",\"headlight\",\"astride\",\"tangles\",\"lids\",\"dolphins\",\"muscular\",\"swarmin\",\"flyin\",\"tuft\",\"handy\",\"scratchy\",\"whiskery\",\"howl\",\"wounded\",\"shhh\",\"burying\",\"gingerly\",\"gnight\",\"reply\",\"lamps\",\"slinking\",\"hedges\",\"inky\",\"waking\",\"milk\",\"pinched\",\"gardens\",\"fateful\",\"mantelpiece\",\"pictures\",\"beach\",\"bonnets\",\"riding\",\"bicycle\",\"carousel\",\"shrill\",\"pan\",\"stove\",\"duddys\",\"spider\",\"mystery\",\"skinnier\",\"scotch\",\"punched\",\"comb\",\"greeting\",\"haircuts\",\"watery\",\"angel\",\"darling\",\"wolfing\",\"scented\",\"popkin\",\"sweetums\",\"moneys\",\"atta\",\"wristwatch\",\"parks\",\"movies\",\"planned\",\"tibbles\",\"tufty\",\"phone\",\"yvonne\",\"majorca\",\"ruins\",\"dinky\",\"duddydums\",\"mummy\",\"flinging\",\"sobs\",\"sp\",\"spoils\",\"doorbell\",\"barbers\",\"scissors\",\"sleepless\",\"sheared\",\"puff\",\"puppet\",\"shrunk\",\"buildings\",\"cans\",\"spending\",\"smelling\",\"council\",\"maniacs\",\"hoodlums\",\"overtook\",\"beet\",\"cartoon\",\"van\",\"cheap\",\"gorilla\",\"remarkably\",\"hobby\",\"restaurant\",\"knickerbocker\",\"lizards\",\"snakes\",\"cobras\",\"crushing\",\"pythons\",\"largest\",\"crushed\",\"glistening\",\"coils\",\"whined\",\"smartly\",\"snoozed\",\"intently\",\"boredom\",\"drumming\",\"visitor\",\"specimen\",\"bred\",\"waddling\",\"concrete\",\"constrictors\",\"uncoiling\",\"rapidly\",\"throughout\",\"exits\",\"thanksss\",\"apologized\",\"gibber\",\"playfully\",\"heels\",\"swearing\",\"squeeze\",\"calming\",\"meals\",\"vision\",\"relation\",\"bus\",\"weirdest\",\"disagree\",\"brazilian\",\"earned\",\"longest\",\"crutches\",\"dennis\",\"malcolm\",\"gordon\",\"stupidest\",\"leader\",\"hunting\",\"secondary\",\"local\",\"tripping\",\"paraded\",\"brand\",\"tailcoats\",\"straw\",\"boaters\",\"proudest\",\"dudleykins\",\"rags\",\"dota\",\"dyeing\",\"doubted\",\"elephant\",\"click\",\"flop\",\"poke\",\"vacationing\",\"isle\",\"wight\",\"twanging\",\"elastic\",\"band\",\"relatives\",\"whinging\",\"surrey\",\"seal\",\"bearing\",\"badger\",\"bombs\",\"whelk\",\"snatch\",\"grayish\",\"seeming\",\"scruffs\",\"promptly\",\"sleeps\",\"pacing\",\"swear\",\"breaths\",\"bedrooms\",\"visitors\",\"program\",\"canceled\",\"birdcage\",\"parrot\",\"bawling\",\"whacked\",\"tortoise\",\"greenhouse\",\"strangled\",\"wrestle\",\"wheezed\",\"repaired\",\"postman\",\"hammered\",\"uncles\",\"nailed\",\"nail\",\"fruitcake\",\"slotted\",\"hammer\",\"tulips\",\"milkman\",\"dairy\",\"shredded\",\"processor\",\"sunday\",\"sundays\",\"newspapers\",\"damn\",\"whizzing\",\"bullets\",\"tufts\",\"arguments\",\"highway\",\"sniffling\",\"sports\",\"shakeem\",\"nightfall\",\"programs\",\"alien\",\"outskirts\",\"city\",\"musty\",\"snored\",\"stale\",\"cornflakes\",\"tinned\",\"tomatoes\",\"owner\",\"scuse\",\"undred\",\"railview\",\"cokeworth\",\"dining\",\"plowed\",\"suspension\",\"bridge\",\"multilevel\",\"garage\",\"daddys\",\"dully\",\"parked\",\"coast\",\"dud\",\"ley\",\"sniveled\",\"humbertos\",\"eleventh\",\"birthdays\",\"hanger\",\"certain\",\"forecast\",\"gleefully\",\"gentlemans\",\"lend\",\"ambling\",\"rowboat\",\"aboard\",\"chilly\",\"seaweed\",\"gaps\",\"chips\",\"bananas\",\"smoked\",\"waves\",\"splattered\",\"filthy\",\"moth\",\"softest\",\"curl\",\"thinnest\",\"ragged\",\"blanket\",\"raged\",\"ferociously\",\"snores\",\"thunder\",\"dial\",\"tick\",\"writer\",\"creak\",\"warmer\",\"slapping\",\"crumbling\",\"annoy\",\"boom\",\"skidding\",\"hinges\",\"beetles\",\"stooping\",\"brushed\",\"crinkled\",\"rasping\",\"demand\",\"prune\",\"gun\",\"knot\",\"rubber\",\"squashed\",\"icing\",\"introduced\",\"stronger\",\"bath\",\"weight\",\"mugs\",\"amber\",\"liquid\",\"swig\",\"sizzling\",\"juicy\",\"burnt\",\"fidgeted\",\"puddin\",\"fattenin\",\"sony\",\"cryin\",\"fill\",\"cowering\",\"math\",\"explode\",\"boomed\",\"fixing\",\"commanded\",\"quailed\",\"syllable\",\"boil\",\"thumpin\",\"goodun\",\"trained\",\"grand\",\"chf\",\"warlock\",\"supreme\",\"mugwump\",\"international\",\"confed\",\"inform\",\"enclosed\",\"necessary\",\"sincerely\",\"minerva\",\"deputy\",\"fireworks\",\"gallopin\",\"gorgons\",\"upside\",\"weathers\",\"ashen\",\"firelight\",\"nonmagic\",\"thern\",\"dratted\",\"spawn\",\"teacups\",\"freak\",\"draw\",\"ranting\",\"abnormal\",\"outrage\",\"scandal\",\"parts\",\"gulpin\",\"gargoyles\",\"foghorn\",\"mckinnons\",\"prewetts\",\"cruel\",\"load\",\"tosh\",\"cured\",\"denying\",\"worlds\",\"types\",\"sword\",\"speared\",\"bearded\",\"whyd\",\"bidin\",\"kinda\",\"trances\",\"comin\",\"respect\",\"clouted\",\"bullied\",\"defeated\",\"sorcerer\",\"football\",\"revenge\",\"positively\",\"born\",\"finest\",\"youngsters\",\"dumbled\",\"paying\",\"crackpot\",\"tricks\",\"insult\",\"dumbledorein\",\"firecracker\",\"curly\",\"pigs\",\"ruefully\",\"strictly\",\"speakin\",\"kip\",\"wriggles\",\"dormice\",\"rapping\",\"claw\",\"swelling\",\"savaging\",\"payin\",\"deliverin\",\"bunches\",\"pellets\",\"string\",\"pouch\",\"puncture\",\"um\",\"mm\",\"teh\",\"banks\",\"cept\",\"fetchin\",\"gleamed\",\"hired\",\"settled\",\"mentionin\",\"highsecurity\",\"tryin\",\"messin\",\"minister\",\"cornelius\",\"bungler\",\"pelts\",\"everyoned\",\"wantin\",\"solutions\",\"bumped\",\"meters\",\"panting\",\"crikey\",\"tickets\",\"knitting\",\"canary\",\"circus\",\"stitches\",\"unfolded\",\"require\",\"sets\",\"protective\",\"similar\",\"winter\",\"fastenings\",\"tags\",\"grade\",\"miranda\",\"goshawk\",\"bathilda\",\"bagshot\",\"theory\",\"adalbert\",\"waffling\",\"beginners\",\"switch\",\"phyllida\",\"spore\",\"drafts\",\"arsenius\",\"jigger\",\"newt\",\"scamander\",\"forces\",\"quentin\",\"trimble\",\"phials\",\"bustling\",\"stores\",\"cinemas\",\"sell\",\"cooked\",\"humor\",\"unbelievable\",\"trusting\",\"steered\",\"sherry\",\"smoking\",\"buzz\",\"tom\",\"grasping\",\"walled\",\"weeds\",\"tremblin\",\"bloke\",\"studyin\",\"firsthand\",\"hag\",\"hags\",\"bricks\",\"quivered\",\"cobbled\",\"shrink\",\"instantly\",\"sizes\",\"stirring\",\"needin\",\"hooting\",\"instruments\",\"spleens\",\"eels\",\"tottering\",\"globes\",\"burnished\",\"shorter\",\"swarthy\",\"engraved\",\"heed\",\"awaits\",\"sin\",\"dearly\",\"thief\",\"beware\",\"scribbling\",\"ledgers\",\"examining\",\"eyeglasses\",\"rubies\",\"coals\",\"mysteriously\",\"jobs\",\"steeply\",\"railway\",\"hurtling\",\"maze\",\"passages\",\"stung\",\"stalactites\",\"stalagmite\",\"stalactite\",\"lean\",\"unlocked\",\"mounds\",\"columns\",\"heaps\",\"belonging\",\"galleon\",\"terms\",\"corners\",\"ravine\",\"scruff\",\"sucked\",\"fabulous\",\"jewels\",\"longed\",\"infernal\",\"squat\",\"mauve\",\"bully\",\"smuggle\",\"agree\",\"mmm\",\"works\",\"savage\",\"surname\",\"raspberry\",\"chopped\",\"lied\",\"wrote\",\"forgettin\",\"pate\",\"wizardin\",\"duffers\",\"gloomily\",\"flourish\",\"blotts\",\"paving\",\"stamps\",\"symbols\",\"countercurses\",\"bewitch\",\"befuddle\",\"revenges\",\"loss\",\"jelly\",\"tying\",\"vindictus\",\"viridian\",\"couldn\",\"fascinating\",\"rotted\",\"cabbages\",\"slimy\",\"powders\",\"bundles\",\"strings\",\"supply\",\"basic\",\"minuscule\",\"glittery\",\"scoop\",\"sneeze\",\"kids\",\"stammering\",\"lotta\",\"makers\",\"cushion\",\"tinkling\",\"occurred\",\"tingle\",\"awkwardly\",\"quarter\",\"swishy\",\"willow\",\"pliable\",\"bendy\",\"hmmm\",\"armpit\",\"core\",\"heartstrings\",\"phoenixes\",\"flitting\",\"beechwood\",\"heartstring\",\"flexible\",\"maple\",\"whippy\",\"ebony\",\"springy\",\"mounting\",\"customer\",\"combination\",\"firework\",\"whooped\",\"bravo\",\"destined\",\"named\",\"gawking\",\"paddington\",\"chewed\",\"beginning\",\"singled\",\"smatter\",\"improvement\",\"depressing\",\"vacuum\",\"august\",\"quiz\",\"grunt\",\"carpets\",\"punctures\",\"barking\",\"removed\",\"jeans\",\"loaded\",\"dumped\",\"built\",\"nastier\",\"annoyed\",\"wasters\",\"according\",\"arrivals\",\"stranded\",\"inspectors\",\"speaker\",\"piped\",\"dividing\",\"tourists\",\"swarming\",\"backpack\",\"sons\",\"gangling\",\"trolley\",\"steam\",\"wrought\",\"carriages\",\"dreadlocks\",\"surrounded\",\"lid\",\"shove\",\"heave\",\"cmere\",\"chorused\",\"gawked\",\"geroff\",\"aaah\",\"ronnie\",\"somefink\",\"nosie\",\"compartments\",\"fondly\",\"behave\",\"ronniekins\",\"rubbed\",\"goggle\",\"reminding\",\"disappear\",\"redheaded\",\"jordans\",\"tarantula\",\"georges\",\"jokes\",\"accountant\",\"expects\",\"useless\",\"wakes\",\"aff\",\"voicing\",\"cows\",\"sheep\",\"lanes\",\"clattering\",\"dimpled\",\"dears\",\"droobles\",\"gum\",\"licorice\",\"starving\",\"forgets\",\"corned\",\"swap\",\"candies\",\"flowing\",\"considered\",\"tenpin\",\"bowling\",\"astonishment\",\"strayed\",\"hengist\",\"woodcroft\",\"alberic\",\"grunnion\",\"circe\",\"paracelsus\",\"druidess\",\"cliodna\",\"bertie\",\"mar\",\"malade\",\"spinach\",\"tripe\",\"boogerflavored\",\"bleaaargh\",\"strawberry\",\"curry\",\"coffee\",\"sardine\",\"pepper\",\"rivers\",\"hills\",\"threequarters\",\"tearful\",\"snoozing\",\"rummaged\",\"aback\",\"sunshine\",\"daisies\",\"butter\",\"mellow\",\"background\",\"dazed\",\"settling\",\"depressed\",\"africa\",\"prickle\",\"confessed\",\"dumbfounded\",\"positions\",\"describing\",\"thickset\",\"bodyguards\",\"carelessly\",\"cough\",\"snigget\",\"tinge\",\"cheeks\",\"politer\",\"riffraff\",\"rub\",\"knuckle\",\"scabbets\",\"conductor\",\"childishly\",\"sniffy\",\"dirt\",\"slowing\",\"sneakers\",\"luggage\",\"lurched\",\"thronging\",\"familiar\",\"cmon\",\"stumbling\",\"ye\",\"sec\",\"oooooh\",\"atop\",\"starry\",\"turrets\",\"shore\",\"curtain\",\"ivy\",\"opening\",\"tunnel\",\"rocks\",\"pebbles\",\"blissfully\",\"upper\",\"flagged\",\"drone\",\"produced\",\"triumphs\",\"rulebreaking\",\"honor\",\"credit\",\"becomes\",\"smarten\",\"lingered\",\"fastened\",\"smudged\",\"hurts\",\"doom\",\"transparent\",\"monk\",\"chances\",\"deserves\",\"tights\",\"mutely\",\"ceremonys\",\"goblets\",\"lanterns\",\"candlelight\",\"avoid\",\"velvety\",\"placed\",\"patched\",\"frayed\",\"brim\",\"judge\",\"smarter\",\"bowlers\",\"chivalry\",\"loyal\",\"patient\",\"hufflepuffis\",\"unafraid\",\"toil\",\"wit\",\"cunning\",\"achieve\",\"flap\",\"weakly\",\"alot\",\"witted\",\"queasy\",\"abbott\",\"pigtails\",\"brocklehurst\",\"mandy\",\"catcalling\",\"bulstrode\",\"millicent\",\"gym\",\"finch\",\"fletchley\",\"justin\",\"declared\",\"thoughts\",\"amid\",\"gales\",\"macdougal\",\"swaggered\",\"nott\",\"perks\",\"sally\",\"anne\",\"hmm\",\"plenty\",\"talent\",\"thirst\",\"prove\",\"edges\",\"greatness\",\"thumbs\",\"center\",\"quirtell\",\"turpin\",\"lisa\",\"pompously\",\"zabini\",\"blaise\",\"scroll\",\"nitwit\",\"blubber\",\"oddment\",\"tweak\",\"airily\",\"dishes\",\"beef\",\"pork\",\"lamb\",\"fries\",\"carrots\",\"starved\",\"peppermints\",\"troduced\",\"porpington\",\"service\",\"resident\",\"prefer\",\"miffed\",\"hinge\",\"behead\",\"unbearable\",\"gaunt\",\"stained\",\"seating\",\"arrangements\",\"delicately\",\"remains\",\"blocks\",\"apple\",\"pies\",\"tarts\",\"eclairs\",\"doughnuts\",\"strawberries\",\"jell\",\"rice\",\"dads\",\"blackpool\",\"pier\",\"enid\",\"meringue\",\"bounced\",\"absurd\",\"hooked\",\"sallow\",\"teaches\",\"awful\",\"ahern\",\"watered\",\"notices\",\"remind\",\"trials\",\"ribbon\",\"hoggy\",\"scabby\",\"filling\",\"flies\",\"fluff\",\"forgot\",\"rot\",\"funeral\",\"march\",\"conducted\",\"beyond\",\"bedtime\",\"trot\",\"doorways\",\"panels\",\"tapestries\",\"dragging\",\"farther\",\"oooooooh\",\"cackle\",\"baronll\",\"dress\",\"caput\",\"draconis\",\"directed\",\"posters\",\"velvet\",\"chewing\",\"transfer\",\"destiny\",\"sweating\",\"lining\",\"doubled\",\"rickety\",\"vanishing\",\"politely\",\"tickled\",\"poltergeist\",\"baskets\",\"rugs\",\"pelt\",\"sneak\",\"conk\",\"argus\",\"unluckily\",\"rescued\",\"patrolled\",\"toe\",\"whisk\",\"appear\",\"dearest\",\"skies\",\"greenhouses\",\"dumpy\",\"plants\",\"droned\",\"uric\",\"oddball\",\"complex\",\"furniture\",\"pointy\",\"ward\",\"vampire\",\"african\",\"prince\",\"troublesome\",\"protected\",\"poured\",\"laps\",\"scrawl\",\"disliked\",\"dislike\",\"pickled\",\"tunnels\",\"subtle\",\"science\",\"exact\",\"art\",\"potionmaking\",\"y\",\"beauty\",\"simmering\",\"shimmering\",\"fumes\",\"delicate\",\"liquids\",\"veins\",\"ensnaring\",\"brew\",\"stopper\",\"dunderheads\",\"exchanged\",\"proving\",\"dunderhead\",\"ignoring\",\"information\",\"draught\",\"goat\",\"poisons\",\"aconite\",\"continued\",\"cure\",\"weigh\",\"nettles\",\"crush\",\"criticizing\",\"whom\",\"stewed\",\"horned\",\"slugs\",\"acid\",\"melt\",\"blob\",\"seeping\",\"holes\",\"drenched\",\"spilled\",\"porcupine\",\"whimpered\",\"unfair\",\"doi\",\"galoshes\",\"frantic\",\"scrabbling\",\"booming\",\"barks\",\"collar\",\"hams\",\"pheasants\",\"patchwork\",\"quilt\",\"yerselves\",\"pouring\",\"chasin\",\"shapeless\",\"lumps\",\"raisins\",\"rested\",\"drooled\",\"sometime\",\"cutting\",\"investigations\",\"widely\",\"spokesgoblin\",\"mightve\",\"thieves\",\"weighed\",\"collected\",\"groan\",\"typical\",\"reasonably\",\"boastful\",\"narrowly\",\"helicopters\",\"childhood\",\"glider\",\"constantly\",\"argument\",\"prodding\",\"tips\",\"lecture\",\"arrival\",\"gloatingly\",\"tells\",\"breezy\",\"rippled\",\"sloping\",\"lawns\",\"lawn\",\"swaying\",\"vibrate\",\"upf\",\"quaver\",\"correcting\",\"grips\",\"jumpy\",\"hoochs\",\"cork\",\"drift\",\"lazily\",\"bending\",\"tear\",\"hobbled\",\"ooh\",\"pansy\",\"crybabies\",\"snatching\",\"longbottoms\",\"hovering\",\"topmost\",\"whoop\",\"grasped\",\"javelin\",\"motion\",\"mingled\",\"triumphant\",\"numbly\",\"defend\",\"trotting\",\"assistant\",\"cane\",\"burly\",\"flitwicles\",\"blackboard\",\"clanged\",\"puzzlement\",\"crisply\",\"scratch\",\"build\",\"speedy\",\"decent\",\"cleansweep\",\"sternly\",\"punishing\",\"dinnertime\",\"kidney\",\"shoveling\",\"gaped\",\"skipping\",\"gregory\",\"smarmy\",\"flanked\",\"scowl\",\"anytime\",\"sizing\",\"catching\",\"duels\",\"malfoyll\",\"punch\",\"peace\",\"overhearing\",\"selfish\",\"dodge\",\"sneering\",\"looming\",\"embers\",\"frown\",\"goose\",\"switching\",\"painting\",\"shrilly\",\"re\",\"snuffling\",\"passwords\",\"ladys\",\"mended\",\"beckoned\",\"striped\",\"tiptoed\",\"cases\",\"glimmered\",\"shields\",\"chickened\",\"scurried\",\"suits\",\"clanging\",\"doorpost\",\"galloped\",\"tapestry\",\"spluttering\",\"stitch\",\"tricked\",\"saintly\",\"wickedly\",\"swipe\",\"helplessly\",\"peevess\",\"shouts\",\"shant\",\"annoying\",\"singsong\",\"haaa\",\"haaaaaa\",\"whooshing\",\"tugging\",\"drooling\",\"saliva\",\"slippery\",\"thunderous\",\"groped\",\"monster\",\"littie\",\"meantime\",\"valuable\",\"object\",\"guessing\",\"further\",\"slightest\",\"refusing\",\"bonus\",\"contains\",\"enviously\",\"barred\",\"jealousy\",\"spite\",\"resist\",\"comet\",\"comets\",\"flashy\",\"league\",\"model\",\"smothering\",\"woulnt\",\"reward\",\"stomping\",\"disapprovingly\",\"straying\",\"bedspread\",\"dusk\",\"stadium\",\"spectators\",\"poles\",\"lightest\",\"fie\",\"joining\",\"sized\",\"recited\",\"baseball\",\"identical\",\"straps\",\"freed\",\"pelted\",\"zoomed\",\"forcing\",\"strapping\",\"rocket\",\"guards\",\"reeled\",\"offhand\",\"member\",\"weave\",\"catches\",\"fouled\",\"substitutes\",\"cupll\",\"trudged\",\"evenings\",\"mastered\",\"basics\",\"baking\",\"wafting\",\"objects\",\"zoom\",\"angrier\",\"spoken\",\"baruffio\",\"buffalo\",\"swished\",\"desktop\",\"impatient\",\"windmill\",\"dium\",\"levi\",\"sa\",\"gown\",\"glimpse\",\"uncomfortable\",\"overheard\",\"awkward\",\"bats\",\"pumpkins\",\"potato\",\"uproar\",\"firecrackers\",\"exploding\",\"rumbled\",\"element\",\"percyd\",\"deserted\",\"griffin\",\"heading\",\"stench\",\"grunting\",\"footfalls\",\"emerged\",\"granite\",\"boulder\",\"horny\",\"waggled\",\"slouched\",\"praying\",\"slam\",\"chained\",\"fumbling\",\"shrinking\",\"advancing\",\"sinks\",\"confuse\",\"seizing\",\"lumbered\",\"lifting\",\"pea\",\"ugly\",\"echoes\",\"berserk\",\"fasten\",\"flailed\",\"clinging\",\"fright\",\"tremble\",\"glue\",\"urgh\",\"crashes\",\"roars\",\"whimper\",\"hopes\",\"swift\",\"fetch\",\"tackling\",\"disappointed\",\"finishing\",\"grumbled\",\"saving\",\"ending\",\"november\",\"chilled\",\"steel\",\"frost\",\"defrosting\",\"bundled\",\"fur\",\"beaverskin\",\"season\",\"begun\",\"versus\",\"weapon\",\"leaked\",\"mattress\",\"hermlone\",\"committing\",\"rarely\",\"referees\",\"sahara\",\"desert\",\"relaxed\",\"conjured\",\"yard\",\"limping\",\"answers\",\"restless\",\"scene\",\"mangled\",\"bandages\",\"blasted\",\"diversion\",\"saints\",\"buzzing\",\"snoring\",\"dawned\",\"fried\",\"ful\",\"wheedled\",\"clobbered\",\"fan\",\"painted\",\"paint\",\"olivers\",\"flashing\",\"skipped\",\"attractive\",\"commentary\",\"belting\",\"alicia\",\"gains\",\"sc\",\"katie\",\"beater\",\"dodges\",\"bletchley\",\"dives\",\"misses\",\"moans\",\"watchin\",\"bein\",\"nope\",\"speck\",\"attacked\",\"loop\",\"loops\",\"wristwatches\",\"cannonball\",\"ducks\",\"speeds\",\"murmur\",\"streak\",\"terence\",\"spurt\",\"spun\",\"ref\",\"oughta\",\"coulda\",\"cheating\",\"kills\",\"spinner\",\"spinning\",\"dangerously\",\"lurch\",\"riders\",\"violent\",\"unseated\",\"commentating\",\"jerking\",\"managing\",\"nonstop\",\"jinxing\",\"vibrating\",\"circled\",\"headfirst\",\"crouched\",\"hem\",\"yelp\",\"scooping\",\"ended\",\"greek\",\"chappie\",\"jinx\",\"tellin\",\"hotly\",\"meddlin\",\"aha\",\"december\",\"froze\",\"snowballs\",\"stormy\",\"nursed\",\"health\",\"drafty\",\"bitter\",\"mist\",\"spine\",\"lionfish\",\"replacing\",\"bucking\",\"jealous\",\"taunting\",\"fir\",\"blocking\",\"hi\",\"drawl\",\"palace\",\"provoked\",\"insultin\",\"silkily\",\"smirking\",\"grinding\",\"festoons\",\"mistletoe\",\"icicles\",\"blossoming\",\"hint\",\"searching\",\"notable\",\"sheer\",\"tens\",\"random\",\"specially\",\"containing\",\"advanced\",\"librarian\",\"brandished\",\"duster\",\"hearing\",\"hopeful\",\"surprising\",\"itd\",\"dentists\",\"emptier\",\"spear\",\"toasting\",\"bread\",\"english\",\"muffins\",\"marshmallows\",\"plotting\",\"teaching\",\"directing\",\"troops\",\"drawback\",\"eve\",\"turnips\",\"scrawled\",\"whittled\",\"message\",\"enclose\",\"fascinated\",\"nmat\",\"knitted\",\"homemade\",\"mines\",\"tasty\",\"fluid\",\"folds\",\"cloth\",\"woven\",\"awe\",\"suspended\",\"loopy\",\"signature\",\"sweaters\",\"lovely\",\"halfheartedly\",\"observed\",\"gred\",\"th\",\"disapproving\",\"thickly\",\"turkeys\",\"platters\",\"chipolatas\",\"tureens\",\"buttered\",\"rich\",\"cranberry\",\"sauce\",\"stacks\",\"flimsy\",\"cracker\",\"bang\",\"engulfed\",\"admirals\",\"flowered\",\"bonnet\",\"puddings\",\"embedded\",\"slice\",\"kissing\",\"giggled\",\"lopsided\",\"including\",\"nonexplodable\",\"balloons\",\"warts\",\"kit\",\"norriss\",\"snowball\",\"spectacularly\",\"crumpets\",\"chase\",\"whoever\",\"flow\",\"smoother\",\"squawked\",\"eerie\",\"supporting\",\"creeps\",\"ping\",\"rope\",\"separated\",\"spelled\",\"languages\",\"title\",\"stain\",\"interestinglooking\",\"volume\",\"balancing\",\"bloodcurdling\",\"unbroken\",\"earsplitting\",\"panicking\",\"shrieking\",\"outstretched\",\"ringing\",\"directly\",\"somebodys\",\"drain\",\"shortcut\",\"replied\",\"unused\",\"shapes\",\"upturned\",\"basket\",\"propped\",\"ornate\",\"clawed\",\"inscription\",\"stra\",\"ehru\",\"ube\",\"cafru\",\"wohsi\",\"mirrors\",\"existed\",\"edging\",\"touching\",\"ache\",\"sadness\",\"fade\",\"senses\",\"crossly\",\"retracing\",\"route\",\"paisley\",\"image\",\"discussion\",\"shaves\",\"grandfathers\",\"nearsighted\",\"discovered\",\"delights\",\"happiest\",\"deepest\",\"overshadowed\",\"sees\",\"knowledge\",\"wasted\",\"entranced\",\"admirable\",\"woolen\",\"insist\",\"truthful\",\"shoved\",\"personal\",\"disappearing\",\"drearns\",\"roaming\",\"disappointment\",\"li\",\"brary\",\"breaks\",\"endless\",\"replaced\",\"dampen\",\"fanatic\",\"muddy\",\"bombing\",\"mud\",\"whens\",\"refereed\",\"concen\",\"sinister\",\"climb\",\"hop\",\"chose\",\"stinking\",\"exchange\",\"mystified\",\"flicking\",\"pages\",\"dramatically\",\"maker\",\"effect\",\"legendary\",\"transform\",\"produces\",\"immortal\",\"reports\",\"centuries\",\"existence\",\"belongs\",\"noted\",\"alchemist\",\"opera\",\"lover\",\"celebrated\",\"devon\",\"stops\",\"treating\",\"bites\",\"discussing\",\"wipe\",\"overtaking\",\"biased\",\"weekly\",\"torture\",\"pep\",\"grim\",\"secretly\",\"using\",\"locomotor\",\"mortis\",\"pressure\",\"capture\",\"favor\",\"somersault\",\"broadly\",\"fixedly\",\"howled\",\"poorer\",\"anxiety\",\"bullet\",\"leaping\",\"scuffles\",\"yelps\",\"triumph\",\"spilling\",\"lipped\",\"brooding\",\"broomshed\",\"reliving\",\"blur\",\"nosebleed\",\"prowling\",\"circles\",\"brushing\",\"noiselessly\",\"beech\",\"mumbling\",\"enemy\",\"steadied\",\"pocus\",\"loyalties\",\"thumping\",\"pomftey\",\"pocuss\",\"paler\",\"thinner\",\"press\",\"growling\",\"encouraging\",\"colorcoding\",\"minded\",\"easter\",\"reciting\",\"longingly\",\"dittany\",\"shifty\",\"whatre\",\"suspicious\",\"impressively\",\"shoutin\",\"promisin\",\"rabbitin\",\"aren\",\"species\",\"ireland\",\"inferno\",\"keepers\",\"laws\",\"outlawed\",\"warlocks\",\"convention\",\"tame\",\"burns\",\"welsh\",\"hebridean\",\"blacks\",\"hushing\",\"earths\",\"gamekeepers\",\"stifling\",\"refused\",\"frowned\",\"sppose\",\"beats\",\"flattering\",\"spose\",\"protecting\",\"guarded\",\"fiddling\",\"havin\",\"drinks\",\"hatched\",\"doin\",\"readin\",\"pleasure\",\"profit\",\"hatches\",\"humming\",\"stoked\",\"peaceful\",\"skip\",\"argued\",\"trowels\",\"greeted\",\"ushered\",\"clicking\",\"bated\",\"spiny\",\"stubs\",\"sneezed\",\"stroke\",\"ridgebacks\",\"runnin\",\"darkened\",\"furling\",\"gamekeeping\",\"duties\",\"marbles\",\"dump\",\"chimed\",\"hitch\",\"swollen\",\"shade\",\"feels\",\"soothe\",\"bandaged\",\"puffed\",\"stage\",\"aargh\",\"playin\",\"rattle\",\"arriving\",\"tennis\",\"journey\",\"shortcuts\",\"forgetting\",\"outlines\",\"grappling\",\"tartan\",\"net\",\"utter\",\"easiest\",\"jig\",\"advised\",\"cheery\",\"harness\",\"rigged\",\"suspend\",\"thanked\",\"happiness\",\"loomed\",\"excuses\",\"alibis\",\"cornered\",\"violently\",\"likely\",\"slippers\",\"cock\",\"bull\",\"blundering\",\"receive\",\"hourglasses\",\"recorded\",\"thered\",\"lo\",\"popular\",\"admired\",\"longing\",\"insulted\",\"owe\",\"repair\",\"meddle\",\"goodll\",\"misery\",\"memorize\",\"due\",\"resolution\",\"unexpected\",\"whimpering\",\"sob\",\"straightening\",\"meddling\",\"gambled\",\"spring\",\"testing\",\"kindling\",\"dumbledorell\",\"depended\",\"jupiter\",\"delivered\",\"furor\",\"deserved\",\"lighting\",\"leering\",\"pity\",\"punishments\",\"wrists\",\"chains\",\"oiled\",\"sniffing\",\"scudding\",\"oaf\",\"mistaken\",\"moan\",\"shouldve\",\"arrows\",\"waitin\",\"lecturin\",\"snot\",\"copyin\",\"goods\",\"fatherd\",\"gaze\",\"risks\",\"track\",\"shinin\",\"trail\",\"staggerin\",\"coward\",\"hermionell\",\"fangll\",\"mossy\",\"stump\",\"cantve\",\"hoisted\",\"arrow\",\"shouldn\",\"chestnut\",\"reddish\",\"sorrowful\",\"loose\",\"erm\",\"innocent\",\"victims\",\"meanin\",\"hides\",\"bow\",\"bodied\",\"injured\",\"stargazers\",\"closern\",\"mostly\",\"turnin\",\"undergrowth\",\"sharper\",\"fuming\",\"sneaked\",\"panicked\",\"makin\",\"changin\",\"frightenin\",\"thicker\",\"splashes\",\"inched\",\"slender\",\"freeze\",\"stalking\",\"cloaked\",\"aaaaaaaaaargh\",\"dribbling\",\"pierced\",\"blinded\",\"staggered\",\"charging\",\"palomino\",\"astonishingly\",\"sapphires\",\"lingering\",\"livid\",\"flanks\",\"heaving\",\"mule\",\"foretold\",\"donkeys\",\"stray\",\"reared\",\"hind\",\"alongside\",\"whisked\",\"whys\",\"horn\",\"slay\",\"gain\",\"commit\",\"inch\",\"price\",\"slain\",\"defenseless\",\"firenzes\",\"dappled\",\"deaths\",\"clung\",\"awaiting\",\"wrongly\",\"cantered\",\"shivering\",\"fouls\",\"feverishly\",\"banell\",\"imprecise\",\"branch\",\"exhausted\",\"throats\",\"sweltering\",\"anticheating\",\"practical\",\"pineapple\",\"tapdance\",\"forgetfulness\",\"stabbing\",\"pains\",\"bothering\",\"dripping\",\"foreheads\",\"visiting\",\"fret\",\"answering\",\"batty\",\"selfstirring\",\"flocking\",\"code\",\"conduct\",\"uprising\",\"elfric\",\"tickling\",\"tentacles\",\"squid\",\"basking\",\"shallows\",\"dangers\",\"unsettled\",\"betray\",\"grassy\",\"slope\",\"wander\",\"law\",\"shelling\",\"hogs\",\"dealer\",\"mightn\",\"hood\",\"buyin\",\"fluffys\",\"fishy\",\"urgent\",\"demands\",\"winds\",\"tone\",\"tumbled\",\"sn\",\"someones\",\"suspicion\",\"assured\",\"enjoy\",\"wanderings\",\"personally\",\"fourteen\",\"separating\",\"stormed\",\"whap\",\"percent\",\"putted\",\"pocketed\",\"bid\",\"freedom\",\"hurriedly\",\"steeling\",\"exasperation\",\"petrificus\",\"totalus\",\"rigid\",\"whatve\",\"motionless\",\"omen\",\"skulking\",\"lamplike\",\"carpet\",\"ghoulie\",\"ghostie\",\"wee\",\"beastie\",\"bloodiness\",\"greasily\",\"peevsie\",\"scooted\",\"impress\",\"creaked\",\"harp\",\"droop\",\"ceased\",\"tottered\",\"smelly\",\"approached\",\"gritted\",\"ring\",\"fingertips\",\"flump\",\"thump\",\"sprawled\",\"bark\",\"struggle\",\"twist\",\"tendrils\",\"creepers\",\"tighter\",\"curling\",\"likes\",\"wringing\",\"bluebell\",\"cringed\",\"wriggling\",\"flailing\",\"unraveled\",\"bodies\",\"crisis\",\"gentle\",\"drip\",\"trickling\",\"fully\",\"clinking\",\"brilliantly\",\"arching\",\"tumbling\",\"vicious\",\"beaks\",\"untouched\",\"tugged\",\"decoration\",\"winged\",\"squinted\",\"flock\",\"fashioned\",\"midst\",\"spotting\",\"weaving\",\"rainbow\",\"damaged\",\"rocketed\",\"rammed\",\"chessboard\",\"knights\",\"helmeted\",\"plays\",\"pawn\",\"diagonally\",\"smashed\",\"limp\",\"nof\",\"sacrifices\",\"checkmate\",\"alternative\",\"pounced\",\"spaces\",\"crown\",\"charged\",\"convince\",\"sprouts\",\"transfigured\",\"watering\",\"larger\",\"tackled\",\"differently\",\"threshold\",\"safety\",\"transport\",\"killers\",\"bidden\",\"forevermore\",\"slyly\",\"wines\",\"dwarf\",\"holds\",\"puzzle\",\"cleverness\",\"friendship\",\"positive\",\"wears\",\"flooding\",\"braced\",\"treble\",\"type\",\"overgrown\",\"suspect\",\"nosy\",\"scurrying\",\"concentrating\",\"idly\",\"frighten\",\"presenting\",\"loathed\",\"spasm\",\"masters\",\"instructions\",\"traveled\",\"served\",\"faithfully\",\"mistakes\",\"displeased\",\"trailed\",\"myseff\",\"incredibly\",\"rooting\",\"muscle\",\"slits\",\"mere\",\"vapor\",\"anothers\",\"willing\",\"strengthened\",\"faithful\",\"create\",\"surged\",\"begging\",\"liar\",\"value\",\"courageous\",\"flame\",\"seared\",\"lessened\",\"lunged\",\"pinning\",\"palms\",\"raw\",\"perform\",\"instinct\",\"aaaargh\",\"yells\",\"grasp\",\"blackness\",\"swam\",\"linen\",\"tokens\",\"admirers\",\"naturally\",\"misters\",\"responsible\",\"hygienic\",\"confiscated\",\"distracted\",\"prevent\",\"blankly\",\"stored\",\"affairs\",\"beings\",\"precisely\",\"increases\",\"truly\",\"nevertheless\",\"merely\",\"treated\",\"beg\",\"hatred\",\"marked\",\"sheet\",\"twinkled\",\"detest\",\"unlike\",\"dreamily\",\"hating\",\"otherwise\",\"unfortunate\",\"youth\",\"vomitflavored\",\"toffee\",\"nurse\",\"pleaded\",\"resting\",\"fling\",\"audience\",\"stopping\",\"accident\",\"steamrollered\",\"foodll\",\"bustled\",\"stiffily\",\"risky\",\"indoors\",\"git\",\"chucked\",\"grief\",\"remorse\",\"leaking\",\"sandwich\",\"chuckle\",\"fix\",\"shoulda\",\"pomfreys\",\"fussing\",\"insisting\",\"checkup\",\"decked\",\"hush\",\"fortunately\",\"waffle\",\"fuller\",\"awarding\",\"thus\",\"stamping\",\"ahem\",\"dish\",\"radish\",\"sunburn\",\"din\",\"gradually\",\"kinds\",\"takes\",\"explosion\",\"nudged\",\"downfall\",\"jot\",\"grades\",\"scraped\",\"abysmal\",\"wardrobes\",\"boarding\",\"greener\",\"tidier\",\"towns\",\"wizened\",\"gate\",\"twos\",\"threes\",\"alarming\",\"squealed\",\"mustached\",\"manner\",\"holiday\",\"spreading\",]'"
      ]
     },
     "execution_count": 69,
     "metadata": {},
     "output_type": "execute_result"
    }
   ],
   "source": [
    "js"
   ]
  },
  {
   "cell_type": "code",
   "execution_count": 58,
   "metadata": {},
   "outputs": [
    {
     "name": "stdout",
     "output_type": "stream",
     "text": [
      "5868\n"
     ]
    }
   ],
   "source": [
    "# vocabulary size\n",
    "vocab_size = len(tokenizer.word_index) + 1\n",
    "print(vocab_size)"
   ]
  },
  {
   "cell_type": "markdown",
   "metadata": {},
   "source": [
    "Now that we've encoded the data, we need to separate the dataset into input `X` and output `y` elements."
   ]
  },
  {
   "cell_type": "code",
   "execution_count": 59,
   "metadata": {},
   "outputs": [],
   "source": [
    "# separate into input and output\n",
    "sequences = array(sequences)\n",
    "X, y = sequences[:,:-1], sequences[:,-1]\n",
    "y = to_categorical(y, num_classes=vocab_size)\n",
    "seq_length = X.shape[1]"
   ]
  },
  {
   "cell_type": "markdown",
   "metadata": {},
   "source": [
    "## Fit the Model\n",
    "\n",
    "Now, we get to the meat of things. We are going to define the model that we are going to use"
   ]
  },
  {
   "cell_type": "code",
   "execution_count": 60,
   "metadata": {},
   "outputs": [
    {
     "name": "stdout",
     "output_type": "stream",
     "text": [
      "_________________________________________________________________\n",
      "Layer (type)                 Output Shape              Param #   \n",
      "=================================================================\n",
      "embedding_2 (Embedding)      (None, 50, 50)            293400    \n",
      "_________________________________________________________________\n",
      "lstm_3 (LSTM)                (None, 50, 100)           60400     \n",
      "_________________________________________________________________\n",
      "lstm_4 (LSTM)                (None, 100)               80400     \n",
      "_________________________________________________________________\n",
      "dense_3 (Dense)              (None, 100)               10100     \n",
      "_________________________________________________________________\n",
      "dense_4 (Dense)              (None, 5868)              592668    \n",
      "=================================================================\n",
      "Total params: 1,036,968\n",
      "Trainable params: 1,036,968\n",
      "Non-trainable params: 0\n",
      "_________________________________________________________________\n",
      "None\n"
     ]
    }
   ],
   "source": [
    "from keras.models import Sequential\n",
    "from keras.layers import Dense\n",
    "from keras.layers import LSTM\n",
    "from keras.layers import Embedding\n",
    "\n",
    "# define model\n",
    "model = Sequential()\n",
    "model.add(Embedding(vocab_size, input_size, input_length=seq_length))\n",
    "model.add(LSTM(100, return_sequences=True))\n",
    "model.add(LSTM(100))\n",
    "model.add(Dense(100, activation='relu'))\n",
    "model.add(Dense(vocab_size, activation='softmax'))\n",
    "print(model.summary())\n",
    "# compile model\n",
    "model.compile(loss='categorical_crossentropy', optimizer='rmsprop', metrics=['accuracy'])"
   ]
  },
  {
   "cell_type": "markdown",
   "metadata": {},
   "source": [
    "Finally, the model is ready to be fit on the data for some amount of epochs. This takes a few hours even on modern hardware without gpu's. You can speed up the training by increasing the `batch_size` or decreasing the number of `epochs`.\n",
    "\n",
    "We then also save this model. This is the point where the tutorial that I've been following ends, but personally I like to save my models periodically, so before we train, I'm going to define a callback function which will checkpoint the model every five epochs in case I get impatient. This utilizes the keras `LambdaCallback` class. "
   ]
  },
  {
   "cell_type": "code",
   "execution_count": 63,
   "metadata": {},
   "outputs": [],
   "source": [
    "def on_epoch_end (epoch, _):\n",
    "    if (epoch + 1) % 5 == 0:\n",
    "        print(\"Checkpointing the model...\")\n",
    "        model.save(\".h5\")\n",
    "        # save the tokenizer\n",
    "        dump(tokenizer, open('tokenizer.pkl', 'wb'))\n",
    "        \n",
    "print_callback = LambdaCallback(on_epoch_end=on_epoch_end)"
   ]
  },
  {
   "cell_type": "code",
   "execution_count": 61,
   "metadata": {},
   "outputs": [
    {
     "name": "stdout",
     "output_type": "stream",
     "text": [
      "Epoch 1/2\n",
      "81643/81643 [==============================] - 180s 2ms/step - loss: 6.5243 - acc: 0.0584\n",
      "Epoch 2/2\n",
      "81643/81643 [==============================] - 175s 2ms/step - loss: 6.2286 - acc: 0.0622\n"
     ]
    },
    {
     "data": {
      "text/plain": [
       "<keras.callbacks.History at 0x1264cc908>"
      ]
     },
     "execution_count": 61,
     "metadata": {},
     "output_type": "execute_result"
    }
   ],
   "source": [
    "# fit model\n",
    "model.fit(X, y, batch_size=256, epochs=20, verbose=2, callbacks=[print_callback])"
   ]
  },
  {
   "cell_type": "code",
   "execution_count": 70,
   "metadata": {},
   "outputs": [
    {
     "data": {
      "text/plain": [
       "55157"
      ]
     },
     "execution_count": 70,
     "metadata": {},
     "output_type": "execute_result"
    }
   ],
   "source": [
    "# save the model to file\n",
    "model.save('model.h5')\n",
    "\n",
    "js = \"[\"\n",
    "for word, index in tokenizer.word_index.items():\n",
    "    js += '\"' + word + '\",'\n",
    "js += \"]\"\n",
    "f = open(\"tokenizer-array.txt\", \"w\")\n",
    "f.write(js)"
   ]
  },
  {
   "cell_type": "markdown",
   "metadata": {},
   "source": []
  },
  {
   "cell_type": "code",
   "execution_count": null,
   "metadata": {},
   "outputs": [],
   "source": []
  },
  {
   "cell_type": "markdown",
   "metadata": {},
   "source": [
    "# Using the Model!"
   ]
  },
  {
   "cell_type": "markdown",
   "metadata": {},
   "source": [
    "## Load the Models and the Tokenizer"
   ]
  },
  {
   "cell_type": "code",
   "execution_count": 55,
   "metadata": {},
   "outputs": [],
   "source": [
    "# load doc into memory\n",
    "def load_doc(filename):\n",
    "    # open the file as read only\n",
    "    file = open(filename, 'r')\n",
    "    # read all text\n",
    "    text = file.read()\n",
    "    # close the file\n",
    "    file.close()\n",
    "    return text\n",
    "\n",
    "# load cleaned text sequences\n",
    "in_filename = 'harry-potter.txt'\n",
    "doc = load_doc(in_filename)\n",
    "lines = doc.split('\\n')\n",
    "\n",
    "seq_length = len(lines[0].split()) - 1"
   ]
  },
  {
   "cell_type": "markdown",
   "metadata": {},
   "source": []
  },
  {
   "cell_type": "code",
   "execution_count": 56,
   "metadata": {},
   "outputs": [],
   "source": [
    "from keras.models import load_model\n",
    "from pickle import load\n",
    "\n",
    "# load the model\n",
    "model = load_model('model.h5')\n",
    "# load the tokenizer\n",
    "tokenizer = load(open('tokenizer.pkl', 'rb'))"
   ]
  },
  {
   "cell_type": "markdown",
   "metadata": {},
   "source": [
    "## Generate Text"
   ]
  },
  {
   "cell_type": "code",
   "execution_count": 57,
   "metadata": {},
   "outputs": [
    {
     "name": "stdout",
     "output_type": "stream",
     "text": [
      "arms around the trolls neck from behind the troll couldnt feel harry hanging there but even a troll will notice if you stick a long bit of wood up its nose and harrys wand had still been in his hand when hed jumped it had gone straight up one of the\n",
      "\n"
     ]
    }
   ],
   "source": [
    "from random import randint\n",
    "\n",
    "# select a seed text\n",
    "seed_text = lines[randint(0,len(lines))]\n",
    "print(seed_text + '\\n')"
   ]
  },
  {
   "cell_type": "code",
   "execution_count": 58,
   "metadata": {},
   "outputs": [
    {
     "name": "stdout",
     "output_type": "stream",
     "text": [
      "[456, 80, 1, 1218, 574, 41, 150, 1, 371, 109, 530, 7, 800, 35, 22, 108, 4, 371, 136, 1132, 40, 12, 995, 4, 172, 181, 6, 228, 27, 44, 365, 2, 98, 195, 14, 130, 52, 10, 11, 178, 66, 83, 744, 9, 14, 235, 424, 27, 38, 6, 1]\n"
     ]
    }
   ],
   "source": [
    "encoded = tokenizer.texts_to_sequences([seed_text])[0]\n",
    "print(encoded)"
   ]
  },
  {
   "cell_type": "code",
   "execution_count": 62,
   "metadata": {},
   "outputs": [],
   "source": [
    "# truncate sequences to a fixed length\n",
    "encoded = pad_sequences([encoded], maxlen=seq_length, truncating='pre')\n",
    "# predict probabilities for each word\n",
    "yhat = model.predict_classes(encoded, verbose=0)"
   ]
  },
  {
   "cell_type": "code",
   "execution_count": null,
   "metadata": {},
   "outputs": [],
   "source": []
  },
  {
   "cell_type": "code",
   "execution_count": 63,
   "metadata": {},
   "outputs": [],
   "source": [
    "# map predicted word index to word\n",
    "out_word = ''\n",
    "for word, index in tokenizer.word_index.items():\n",
    "    if index == yhat:\n",
    "        out_word = word\n",
    "        break"
   ]
  },
  {
   "cell_type": "code",
   "execution_count": 65,
   "metadata": {},
   "outputs": [
    {
     "ename": "NameError",
     "evalue": "name 'result' is not defined",
     "output_type": "error",
     "traceback": [
      "\u001b[0;31m---------------------------------------------------------------------------\u001b[0m",
      "\u001b[0;31mNameError\u001b[0m                                 Traceback (most recent call last)",
      "\u001b[0;32m<ipython-input-65-3565b389f745>\u001b[0m in \u001b[0;36m<module>\u001b[0;34m\u001b[0m\n\u001b[1;32m      2\u001b[0m \u001b[0;31m# append to input\u001b[0m\u001b[0;34m\u001b[0m\u001b[0;34m\u001b[0m\u001b[0m\n\u001b[1;32m      3\u001b[0m \u001b[0mseed_text\u001b[0m \u001b[0;34m+=\u001b[0m \u001b[0;34m' '\u001b[0m \u001b[0;34m+\u001b[0m \u001b[0mout_word\u001b[0m\u001b[0;34m\u001b[0m\u001b[0m\n\u001b[0;32m----> 4\u001b[0;31m \u001b[0mresult\u001b[0m\u001b[0;34m.\u001b[0m\u001b[0mappend\u001b[0m\u001b[0;34m(\u001b[0m\u001b[0mout_word\u001b[0m\u001b[0;34m)\u001b[0m\u001b[0;34m\u001b[0m\u001b[0m\n\u001b[0m",
      "\u001b[0;31mNameError\u001b[0m: name 'result' is not defined"
     ]
    }
   ],
   "source": [
    "\n",
    "# append to input\n",
    "seed_text += ' ' + out_word\n",
    "result.append(out_word)"
   ]
  },
  {
   "cell_type": "markdown",
   "metadata": {},
   "source": [
    "## Complete Code For Loading and Using"
   ]
  },
  {
   "cell_type": "code",
   "execution_count": null,
   "metadata": {},
   "outputs": [],
   "source": [
    "from random import randint\n",
    "from pickle import load\n",
    "from keras.models import load_model\n",
    "from keras.preprocessing.sequence import pad_sequences\n",
    "\n",
    "# load doc into memory\n",
    "def load_doc(filename):\n",
    "    # open the file as read only\n",
    "    file = open(filename, 'r')\n",
    "    # read all text\n",
    "    text = file.read()\n",
    "    # close the file\n",
    "    file.close()\n",
    "    return text\n",
    "\n",
    "# generate a sequence from a language model\n",
    "def generate_seq(model, tokenizer, seq_length, seed_text, n_words):\n",
    "    result = list()\n",
    "    in_text = seed_text\n",
    "    # generate a fixed number of words\n",
    "    for _ in range(n_words):\n",
    "        # encode the text as integer\n",
    "        encoded = tokenizer.texts_to_sequences([in_text])[0]\n",
    "        # truncate sequences to a fixed length\n",
    "        encoded = pad_sequences([encoded], maxlen=seq_length, truncating='pre')\n",
    "        # predict probabilities for each word\n",
    "        yhat = model.predict_classes(encoded, verbose=0)\n",
    "        # map predicted word index to word\n",
    "        out_word = ''\n",
    "        for word, index in tokenizer.word_index.items():\n",
    "            if index == yhat:\n",
    "                out_word = word\n",
    "                break\n",
    "        # append to input\n",
    "        in_text += ' ' + out_word\n",
    "        result.append(out_word)\n",
    "    return ' '.join(result)\n",
    "\n",
    "# load cleaned text sequences\n",
    "in_filename = 'harry-potter.txt'\n",
    "doc = load_doc(in_filename)\n",
    "lines = doc.split('\\n')\n",
    "seq_length = len(lines[0].split()) - 1\n",
    "\n",
    "# load the model\n",
    "model = load_model('model.h5')\n",
    "\n",
    "# load the tokenizer\n",
    "tokenizer = load(open('tokenizer.pkl', 'rb'))\n",
    "\n",
    "# select a seed text\n",
    "seed_text = lines[randint(0,len(lines))]\n",
    "print(seed_text + '\\n')\n",
    "\n",
    "# generate new text\n",
    "generated = generate_seq(model, tokenizer, seq_length, seed_text, 50)\n",
    "print(generated)"
   ]
  },
  {
   "cell_type": "code",
   "execution_count": null,
   "metadata": {},
   "outputs": [],
   "source": []
  },
  {
   "cell_type": "code",
   "execution_count": null,
   "metadata": {},
   "outputs": [],
   "source": []
  },
  {
   "cell_type": "code",
   "execution_count": null,
   "metadata": {},
   "outputs": [],
   "source": []
  }
 ],
 "metadata": {
  "kernelspec": {
   "display_name": "Python 3",
   "language": "python",
   "name": "python3"
  },
  "language_info": {
   "codemirror_mode": {
    "name": "ipython",
    "version": 3
   },
   "file_extension": ".py",
   "mimetype": "text/x-python",
   "name": "python",
   "nbconvert_exporter": "python",
   "pygments_lexer": "ipython3",
   "version": "3.6.5"
  }
 },
 "nbformat": 4,
 "nbformat_minor": 2
}
